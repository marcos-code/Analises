{
  "nbformat": 4,
  "nbformat_minor": 0,
  "metadata": {
    "colab": {
      "name": "Car -selling-price-prediction.ipynb",
      "provenance": [],
      "collapsed_sections": [],
      "authorship_tag": "ABX9TyMqNRRROddEBMCbnvh7ZYFl",
      "include_colab_link": true
    },
    "kernelspec": {
      "name": "python3",
      "display_name": "Python 3"
    }
  },
  "cells": [
    {
      "cell_type": "markdown",
      "metadata": {
        "id": "view-in-github",
        "colab_type": "text"
      },
      "source": [
        "<a href=\"https://colab.research.google.com/github/marcos-code/Analises/blob/main/Car_selling_price_prediction.ipynb\" target=\"_parent\"><img src=\"https://colab.research.google.com/assets/colab-badge.svg\" alt=\"Open In Colab\"/></a>"
      ]
    },
    {
      "cell_type": "code",
      "metadata": {
        "id": "vnAmEVL337Yr"
      },
      "source": [
        "import pandas as pd\r\n",
        "import numpy as np\r\n",
        "import matplotlib.pyplot as plt\r\n",
        "\r\n",
        "%matplotlib inline\r\n"
      ],
      "execution_count": 1,
      "outputs": []
    },
    {
      "cell_type": "code",
      "metadata": {
        "colab": {
          "base_uri": "https://localhost:8080/",
          "height": 363
        },
        "id": "EXD5Rzt65LRZ",
        "outputId": "2dae7aad-4792-4236-fb5f-8e70b1ef4890"
      },
      "source": [
        "dados = pd.read_csv('https://raw.githubusercontent.com/Arjya1999/car-selling-price-prediction/master/car%20data.csv')\r\n",
        "dados.head(10)"
      ],
      "execution_count": 2,
      "outputs": [
        {
          "output_type": "execute_result",
          "data": {
            "text/html": [
              "<div>\n",
              "<style scoped>\n",
              "    .dataframe tbody tr th:only-of-type {\n",
              "        vertical-align: middle;\n",
              "    }\n",
              "\n",
              "    .dataframe tbody tr th {\n",
              "        vertical-align: top;\n",
              "    }\n",
              "\n",
              "    .dataframe thead th {\n",
              "        text-align: right;\n",
              "    }\n",
              "</style>\n",
              "<table border=\"1\" class=\"dataframe\">\n",
              "  <thead>\n",
              "    <tr style=\"text-align: right;\">\n",
              "      <th></th>\n",
              "      <th>Car_Name</th>\n",
              "      <th>Year</th>\n",
              "      <th>Selling_Price</th>\n",
              "      <th>Present_Price</th>\n",
              "      <th>Kms_Driven</th>\n",
              "      <th>Fuel_Type</th>\n",
              "      <th>Seller_Type</th>\n",
              "      <th>Transmission</th>\n",
              "      <th>Owner</th>\n",
              "    </tr>\n",
              "  </thead>\n",
              "  <tbody>\n",
              "    <tr>\n",
              "      <th>0</th>\n",
              "      <td>ritz</td>\n",
              "      <td>2014</td>\n",
              "      <td>3.35</td>\n",
              "      <td>5.59</td>\n",
              "      <td>27000</td>\n",
              "      <td>Petrol</td>\n",
              "      <td>Dealer</td>\n",
              "      <td>Manual</td>\n",
              "      <td>0</td>\n",
              "    </tr>\n",
              "    <tr>\n",
              "      <th>1</th>\n",
              "      <td>sx4</td>\n",
              "      <td>2013</td>\n",
              "      <td>4.75</td>\n",
              "      <td>9.54</td>\n",
              "      <td>43000</td>\n",
              "      <td>Diesel</td>\n",
              "      <td>Dealer</td>\n",
              "      <td>Manual</td>\n",
              "      <td>0</td>\n",
              "    </tr>\n",
              "    <tr>\n",
              "      <th>2</th>\n",
              "      <td>ciaz</td>\n",
              "      <td>2017</td>\n",
              "      <td>7.25</td>\n",
              "      <td>9.85</td>\n",
              "      <td>6900</td>\n",
              "      <td>Petrol</td>\n",
              "      <td>Dealer</td>\n",
              "      <td>Manual</td>\n",
              "      <td>0</td>\n",
              "    </tr>\n",
              "    <tr>\n",
              "      <th>3</th>\n",
              "      <td>wagon r</td>\n",
              "      <td>2011</td>\n",
              "      <td>2.85</td>\n",
              "      <td>4.15</td>\n",
              "      <td>5200</td>\n",
              "      <td>Petrol</td>\n",
              "      <td>Dealer</td>\n",
              "      <td>Manual</td>\n",
              "      <td>0</td>\n",
              "    </tr>\n",
              "    <tr>\n",
              "      <th>4</th>\n",
              "      <td>swift</td>\n",
              "      <td>2014</td>\n",
              "      <td>4.60</td>\n",
              "      <td>6.87</td>\n",
              "      <td>42450</td>\n",
              "      <td>Diesel</td>\n",
              "      <td>Dealer</td>\n",
              "      <td>Manual</td>\n",
              "      <td>0</td>\n",
              "    </tr>\n",
              "    <tr>\n",
              "      <th>5</th>\n",
              "      <td>vitara brezza</td>\n",
              "      <td>2018</td>\n",
              "      <td>9.25</td>\n",
              "      <td>9.83</td>\n",
              "      <td>2071</td>\n",
              "      <td>Diesel</td>\n",
              "      <td>Dealer</td>\n",
              "      <td>Manual</td>\n",
              "      <td>0</td>\n",
              "    </tr>\n",
              "    <tr>\n",
              "      <th>6</th>\n",
              "      <td>ciaz</td>\n",
              "      <td>2015</td>\n",
              "      <td>6.75</td>\n",
              "      <td>8.12</td>\n",
              "      <td>18796</td>\n",
              "      <td>Petrol</td>\n",
              "      <td>Dealer</td>\n",
              "      <td>Manual</td>\n",
              "      <td>0</td>\n",
              "    </tr>\n",
              "    <tr>\n",
              "      <th>7</th>\n",
              "      <td>s cross</td>\n",
              "      <td>2015</td>\n",
              "      <td>6.50</td>\n",
              "      <td>8.61</td>\n",
              "      <td>33429</td>\n",
              "      <td>Diesel</td>\n",
              "      <td>Dealer</td>\n",
              "      <td>Manual</td>\n",
              "      <td>0</td>\n",
              "    </tr>\n",
              "    <tr>\n",
              "      <th>8</th>\n",
              "      <td>ciaz</td>\n",
              "      <td>2016</td>\n",
              "      <td>8.75</td>\n",
              "      <td>8.89</td>\n",
              "      <td>20273</td>\n",
              "      <td>Diesel</td>\n",
              "      <td>Dealer</td>\n",
              "      <td>Manual</td>\n",
              "      <td>0</td>\n",
              "    </tr>\n",
              "    <tr>\n",
              "      <th>9</th>\n",
              "      <td>ciaz</td>\n",
              "      <td>2015</td>\n",
              "      <td>7.45</td>\n",
              "      <td>8.92</td>\n",
              "      <td>42367</td>\n",
              "      <td>Diesel</td>\n",
              "      <td>Dealer</td>\n",
              "      <td>Manual</td>\n",
              "      <td>0</td>\n",
              "    </tr>\n",
              "  </tbody>\n",
              "</table>\n",
              "</div>"
            ],
            "text/plain": [
              "        Car_Name  Year  Selling_Price  ...  Seller_Type  Transmission Owner\n",
              "0           ritz  2014           3.35  ...       Dealer        Manual     0\n",
              "1            sx4  2013           4.75  ...       Dealer        Manual     0\n",
              "2           ciaz  2017           7.25  ...       Dealer        Manual     0\n",
              "3        wagon r  2011           2.85  ...       Dealer        Manual     0\n",
              "4          swift  2014           4.60  ...       Dealer        Manual     0\n",
              "5  vitara brezza  2018           9.25  ...       Dealer        Manual     0\n",
              "6           ciaz  2015           6.75  ...       Dealer        Manual     0\n",
              "7        s cross  2015           6.50  ...       Dealer        Manual     0\n",
              "8           ciaz  2016           8.75  ...       Dealer        Manual     0\n",
              "9           ciaz  2015           7.45  ...       Dealer        Manual     0\n",
              "\n",
              "[10 rows x 9 columns]"
            ]
          },
          "metadata": {
            "tags": []
          },
          "execution_count": 2
        }
      ]
    },
    {
      "cell_type": "markdown",
      "metadata": {
        "id": "2aw3Nyh55cSt"
      },
      "source": [
        "\r\n",
        "\r\n",
        "#Dicionario Dataset\r\n",
        "\r\n",
        ". Car_name - Nome do carro\r\n",
        "\r\n",
        ". Year - Ano\r\n",
        "\r\n",
        ". Selling_Price - preço de venda\r\n",
        "\r\n",
        ". Present Price - Preço presente\r\n",
        "\r\n",
        ". Kms_ Driven - KM rodados\r\n",
        "\r\n",
        ". Fuel_type - Tipo de combustivel\r\n",
        "\r\n",
        ". Seller Typer - Tipo de vendedor\r\n",
        "\r\n",
        ". Transmission - Transmissão\r\n",
        "\r\n",
        ". Owner - Proprietário\r\n"
      ]
    },
    {
      "cell_type": "code",
      "metadata": {
        "colab": {
          "base_uri": "https://localhost:8080/"
        },
        "id": "OP1BIVQL5g6Q",
        "outputId": "e2489af6-b689-427a-db8a-64371b3b1dec"
      },
      "source": [
        "dados.info()"
      ],
      "execution_count": 3,
      "outputs": [
        {
          "output_type": "stream",
          "text": [
            "<class 'pandas.core.frame.DataFrame'>\n",
            "RangeIndex: 301 entries, 0 to 300\n",
            "Data columns (total 9 columns):\n",
            " #   Column         Non-Null Count  Dtype  \n",
            "---  ------         --------------  -----  \n",
            " 0   Car_Name       301 non-null    object \n",
            " 1   Year           301 non-null    int64  \n",
            " 2   Selling_Price  301 non-null    float64\n",
            " 3   Present_Price  301 non-null    float64\n",
            " 4   Kms_Driven     301 non-null    int64  \n",
            " 5   Fuel_Type      301 non-null    object \n",
            " 6   Seller_Type    301 non-null    object \n",
            " 7   Transmission   301 non-null    object \n",
            " 8   Owner          301 non-null    int64  \n",
            "dtypes: float64(2), int64(3), object(4)\n",
            "memory usage: 21.3+ KB\n"
          ],
          "name": "stdout"
        }
      ]
    },
    {
      "cell_type": "code",
      "metadata": {
        "colab": {
          "base_uri": "https://localhost:8080/"
        },
        "id": "j07ORfDW56kX",
        "outputId": "d067013a-89fd-4347-fe57-17fec02d33bb"
      },
      "source": [
        "#Linhas e colunas\r\n",
        "dados.shape"
      ],
      "execution_count": 5,
      "outputs": [
        {
          "output_type": "execute_result",
          "data": {
            "text/plain": [
              "(301, 9)"
            ]
          },
          "metadata": {
            "tags": []
          },
          "execution_count": 5
        }
      ]
    },
    {
      "cell_type": "code",
      "metadata": {
        "colab": {
          "base_uri": "https://localhost:8080/",
          "height": 300
        },
        "id": "js4F0yUU59tO",
        "outputId": "f1f7770c-082a-40af-f0fb-7e55c0b26608"
      },
      "source": [
        "dados.describe()"
      ],
      "execution_count": 6,
      "outputs": [
        {
          "output_type": "execute_result",
          "data": {
            "text/html": [
              "<div>\n",
              "<style scoped>\n",
              "    .dataframe tbody tr th:only-of-type {\n",
              "        vertical-align: middle;\n",
              "    }\n",
              "\n",
              "    .dataframe tbody tr th {\n",
              "        vertical-align: top;\n",
              "    }\n",
              "\n",
              "    .dataframe thead th {\n",
              "        text-align: right;\n",
              "    }\n",
              "</style>\n",
              "<table border=\"1\" class=\"dataframe\">\n",
              "  <thead>\n",
              "    <tr style=\"text-align: right;\">\n",
              "      <th></th>\n",
              "      <th>Year</th>\n",
              "      <th>Selling_Price</th>\n",
              "      <th>Present_Price</th>\n",
              "      <th>Kms_Driven</th>\n",
              "      <th>Owner</th>\n",
              "    </tr>\n",
              "  </thead>\n",
              "  <tbody>\n",
              "    <tr>\n",
              "      <th>count</th>\n",
              "      <td>301.000000</td>\n",
              "      <td>301.000000</td>\n",
              "      <td>301.000000</td>\n",
              "      <td>301.000000</td>\n",
              "      <td>301.000000</td>\n",
              "    </tr>\n",
              "    <tr>\n",
              "      <th>mean</th>\n",
              "      <td>2013.627907</td>\n",
              "      <td>4.661296</td>\n",
              "      <td>7.628472</td>\n",
              "      <td>36947.205980</td>\n",
              "      <td>0.043189</td>\n",
              "    </tr>\n",
              "    <tr>\n",
              "      <th>std</th>\n",
              "      <td>2.891554</td>\n",
              "      <td>5.082812</td>\n",
              "      <td>8.644115</td>\n",
              "      <td>38886.883882</td>\n",
              "      <td>0.247915</td>\n",
              "    </tr>\n",
              "    <tr>\n",
              "      <th>min</th>\n",
              "      <td>2003.000000</td>\n",
              "      <td>0.100000</td>\n",
              "      <td>0.320000</td>\n",
              "      <td>500.000000</td>\n",
              "      <td>0.000000</td>\n",
              "    </tr>\n",
              "    <tr>\n",
              "      <th>25%</th>\n",
              "      <td>2012.000000</td>\n",
              "      <td>0.900000</td>\n",
              "      <td>1.200000</td>\n",
              "      <td>15000.000000</td>\n",
              "      <td>0.000000</td>\n",
              "    </tr>\n",
              "    <tr>\n",
              "      <th>50%</th>\n",
              "      <td>2014.000000</td>\n",
              "      <td>3.600000</td>\n",
              "      <td>6.400000</td>\n",
              "      <td>32000.000000</td>\n",
              "      <td>0.000000</td>\n",
              "    </tr>\n",
              "    <tr>\n",
              "      <th>75%</th>\n",
              "      <td>2016.000000</td>\n",
              "      <td>6.000000</td>\n",
              "      <td>9.900000</td>\n",
              "      <td>48767.000000</td>\n",
              "      <td>0.000000</td>\n",
              "    </tr>\n",
              "    <tr>\n",
              "      <th>max</th>\n",
              "      <td>2018.000000</td>\n",
              "      <td>35.000000</td>\n",
              "      <td>92.600000</td>\n",
              "      <td>500000.000000</td>\n",
              "      <td>3.000000</td>\n",
              "    </tr>\n",
              "  </tbody>\n",
              "</table>\n",
              "</div>"
            ],
            "text/plain": [
              "              Year  Selling_Price  Present_Price     Kms_Driven       Owner\n",
              "count   301.000000     301.000000     301.000000     301.000000  301.000000\n",
              "mean   2013.627907       4.661296       7.628472   36947.205980    0.043189\n",
              "std       2.891554       5.082812       8.644115   38886.883882    0.247915\n",
              "min    2003.000000       0.100000       0.320000     500.000000    0.000000\n",
              "25%    2012.000000       0.900000       1.200000   15000.000000    0.000000\n",
              "50%    2014.000000       3.600000       6.400000   32000.000000    0.000000\n",
              "75%    2016.000000       6.000000       9.900000   48767.000000    0.000000\n",
              "max    2018.000000      35.000000      92.600000  500000.000000    3.000000"
            ]
          },
          "metadata": {
            "tags": []
          },
          "execution_count": 6
        }
      ]
    },
    {
      "cell_type": "code",
      "metadata": {
        "colab": {
          "base_uri": "https://localhost:8080/"
        },
        "id": "Zd0x63lx6tGy",
        "outputId": "c7b5196d-a2b0-4773-a65a-95176c48ecc8"
      },
      "source": [
        "dados['Selling_Price'].value_counts()"
      ],
      "execution_count": 18,
      "outputs": [
        {
          "output_type": "execute_result",
          "data": {
            "text/plain": [
              "0.60     8\n",
              "0.45     8\n",
              "5.25     7\n",
              "4.50     7\n",
              "4.75     6\n",
              "        ..\n",
              "19.99    1\n",
              "4.35     1\n",
              "0.80     1\n",
              "0.27     1\n",
              "7.20     1\n",
              "Name: Selling_Price, Length: 156, dtype: int64"
            ]
          },
          "metadata": {
            "tags": []
          },
          "execution_count": 18
        }
      ]
    },
    {
      "cell_type": "code",
      "metadata": {
        "colab": {
          "base_uri": "https://localhost:8080/"
        },
        "id": "SUbEpSeO7VD7",
        "outputId": "187f5eec-6b48-4d96-e64e-6d2cc983dee3"
      },
      "source": [
        "# Vendas por ano\r\n",
        "dados['Year'].value_counts()"
      ],
      "execution_count": 21,
      "outputs": [
        {
          "output_type": "execute_result",
          "data": {
            "text/plain": [
              "2015    61\n",
              "2016    50\n",
              "2014    38\n",
              "2017    35\n",
              "2013    33\n",
              "2012    23\n",
              "2011    19\n",
              "2010    15\n",
              "2008     7\n",
              "2009     6\n",
              "2006     4\n",
              "2005     4\n",
              "2007     2\n",
              "2003     2\n",
              "2018     1\n",
              "2004     1\n",
              "Name: Year, dtype: int64"
            ]
          },
          "metadata": {
            "tags": []
          },
          "execution_count": 21
        }
      ]
    },
    {
      "cell_type": "code",
      "metadata": {
        "colab": {
          "base_uri": "https://localhost:8080/",
          "height": 389
        },
        "id": "8xj-vo2_Bm-m",
        "outputId": "9a5ad5ab-4d83-4665-8097-ed2bdf0c6673"
      },
      "source": [
        "dados['Year'].value_counts().plot(kind='bar', figsize=(14,6));"
      ],
      "execution_count": 53,
      "outputs": [
        {
          "output_type": "display_data",
          "data": {
            "image/png": "[encoded data removed]",
            "text/plain": [
              "<Figure size 1008x432 with 1 Axes>"
            ]
          },
          "metadata": {
            "tags": [],
            "needs_background": "light"
          }
        }
      ]
    },
    {
      "cell_type": "code",
      "metadata": {
        "colab": {
          "base_uri": "https://localhost:8080/"
        },
        "id": "PRZhen-P74kX",
        "outputId": "d01ff606-0a5f-48d3-c679-4ae39ef3f0d2"
      },
      "source": [
        "dados['Car_Name'].value_counts()"
      ],
      "execution_count": 22,
      "outputs": [
        {
          "output_type": "execute_result",
          "data": {
            "text/plain": [
              "city                 26\n",
              "corolla altis        16\n",
              "verna                14\n",
              "fortuner             11\n",
              "brio                 10\n",
              "                     ..\n",
              "TVS Jupyter           1\n",
              "Honda Activa 125      1\n",
              "Yamaha Fazer          1\n",
              "Activa 4g             1\n",
              "Suzuki Access 125     1\n",
              "Name: Car_Name, Length: 98, dtype: int64"
            ]
          },
          "metadata": {
            "tags": []
          },
          "execution_count": 22
        }
      ]
    },
    {
      "cell_type": "code",
      "metadata": {
        "colab": {
          "base_uri": "https://localhost:8080/",
          "height": 81
        },
        "id": "WGVlHz8Z8SHx",
        "outputId": "9a453415-8388-4c65-c826-e760e7d61abb"
      },
      "source": [
        "# Carro mais caro\r\n",
        "dados[dados['Selling_Price'] == dados['Selling_Price'].max()]"
      ],
      "execution_count": 24,
      "outputs": [
        {
          "output_type": "execute_result",
          "data": {
            "text/html": [
              "<div>\n",
              "<style scoped>\n",
              "    .dataframe tbody tr th:only-of-type {\n",
              "        vertical-align: middle;\n",
              "    }\n",
              "\n",
              "    .dataframe tbody tr th {\n",
              "        vertical-align: top;\n",
              "    }\n",
              "\n",
              "    .dataframe thead th {\n",
              "        text-align: right;\n",
              "    }\n",
              "</style>\n",
              "<table border=\"1\" class=\"dataframe\">\n",
              "  <thead>\n",
              "    <tr style=\"text-align: right;\">\n",
              "      <th></th>\n",
              "      <th>Car_Name</th>\n",
              "      <th>Year</th>\n",
              "      <th>Selling_Price</th>\n",
              "      <th>Present_Price</th>\n",
              "      <th>Kms_Driven</th>\n",
              "      <th>Fuel_Type</th>\n",
              "      <th>Seller_Type</th>\n",
              "      <th>Transmission</th>\n",
              "      <th>Owner</th>\n",
              "    </tr>\n",
              "  </thead>\n",
              "  <tbody>\n",
              "    <tr>\n",
              "      <th>86</th>\n",
              "      <td>land cruiser</td>\n",
              "      <td>2010</td>\n",
              "      <td>35.0</td>\n",
              "      <td>92.6</td>\n",
              "      <td>78000</td>\n",
              "      <td>Diesel</td>\n",
              "      <td>Dealer</td>\n",
              "      <td>Manual</td>\n",
              "      <td>0</td>\n",
              "    </tr>\n",
              "  </tbody>\n",
              "</table>\n",
              "</div>"
            ],
            "text/plain": [
              "        Car_Name  Year  Selling_Price  ...  Seller_Type  Transmission Owner\n",
              "86  land cruiser  2010           35.0  ...       Dealer        Manual     0\n",
              "\n",
              "[1 rows x 9 columns]"
            ]
          },
          "metadata": {
            "tags": []
          },
          "execution_count": 24
        }
      ]
    },
    {
      "cell_type": "code",
      "metadata": {
        "colab": {
          "base_uri": "https://localhost:8080/",
          "height": 81
        },
        "id": "k5lu3kRK84Q2",
        "outputId": "fd4faac5-cdcd-459e-ed67-5d44d672856b"
      },
      "source": [
        "#Carro mais Barato\r\n",
        "dados[dados['Selling_Price'] == dados['Selling_Price'].min()]"
      ],
      "execution_count": 25,
      "outputs": [
        {
          "output_type": "execute_result",
          "data": {
            "text/html": [
              "<div>\n",
              "<style scoped>\n",
              "    .dataframe tbody tr th:only-of-type {\n",
              "        vertical-align: middle;\n",
              "    }\n",
              "\n",
              "    .dataframe tbody tr th {\n",
              "        vertical-align: top;\n",
              "    }\n",
              "\n",
              "    .dataframe thead th {\n",
              "        text-align: right;\n",
              "    }\n",
              "</style>\n",
              "<table border=\"1\" class=\"dataframe\">\n",
              "  <thead>\n",
              "    <tr style=\"text-align: right;\">\n",
              "      <th></th>\n",
              "      <th>Car_Name</th>\n",
              "      <th>Year</th>\n",
              "      <th>Selling_Price</th>\n",
              "      <th>Present_Price</th>\n",
              "      <th>Kms_Driven</th>\n",
              "      <th>Fuel_Type</th>\n",
              "      <th>Seller_Type</th>\n",
              "      <th>Transmission</th>\n",
              "      <th>Owner</th>\n",
              "    </tr>\n",
              "  </thead>\n",
              "  <tbody>\n",
              "    <tr>\n",
              "      <th>200</th>\n",
              "      <td>Bajaj Pulsar 150</td>\n",
              "      <td>2006</td>\n",
              "      <td>0.1</td>\n",
              "      <td>0.75</td>\n",
              "      <td>92233</td>\n",
              "      <td>Petrol</td>\n",
              "      <td>Individual</td>\n",
              "      <td>Manual</td>\n",
              "      <td>0</td>\n",
              "    </tr>\n",
              "  </tbody>\n",
              "</table>\n",
              "</div>"
            ],
            "text/plain": [
              "             Car_Name  Year  Selling_Price  ...  Seller_Type  Transmission Owner\n",
              "200  Bajaj Pulsar 150  2006            0.1  ...   Individual        Manual     0\n",
              "\n",
              "[1 rows x 9 columns]"
            ]
          },
          "metadata": {
            "tags": []
          },
          "execution_count": 25
        }
      ]
    },
    {
      "cell_type": "code",
      "metadata": {
        "colab": {
          "base_uri": "https://localhost:8080/",
          "height": 424
        },
        "id": "5FOO6MXc9J9o",
        "outputId": "4ee8bec8-e0c5-4b81-c6bc-06887f3aedf8"
      },
      "source": [
        "#Carros mais caros\r\n",
        "dados.loc[dados.groupby('Car_Name')['Present_Price'].idxmax()]"
      ],
      "execution_count": 29,
      "outputs": [
        {
          "output_type": "execute_result",
          "data": {
            "text/html": [
              "<div>\n",
              "<style scoped>\n",
              "    .dataframe tbody tr th:only-of-type {\n",
              "        vertical-align: middle;\n",
              "    }\n",
              "\n",
              "    .dataframe tbody tr th {\n",
              "        vertical-align: top;\n",
              "    }\n",
              "\n",
              "    .dataframe thead th {\n",
              "        text-align: right;\n",
              "    }\n",
              "</style>\n",
              "<table border=\"1\" class=\"dataframe\">\n",
              "  <thead>\n",
              "    <tr style=\"text-align: right;\">\n",
              "      <th></th>\n",
              "      <th>Car_Name</th>\n",
              "      <th>Year</th>\n",
              "      <th>Selling_Price</th>\n",
              "      <th>Present_Price</th>\n",
              "      <th>Kms_Driven</th>\n",
              "      <th>Fuel_Type</th>\n",
              "      <th>Seller_Type</th>\n",
              "      <th>Transmission</th>\n",
              "      <th>Owner</th>\n",
              "    </tr>\n",
              "  </thead>\n",
              "  <tbody>\n",
              "    <tr>\n",
              "      <th>37</th>\n",
              "      <td>800</td>\n",
              "      <td>2003</td>\n",
              "      <td>0.35</td>\n",
              "      <td>2.28</td>\n",
              "      <td>127000</td>\n",
              "      <td>Petrol</td>\n",
              "      <td>Individual</td>\n",
              "      <td>Manual</td>\n",
              "      <td>0</td>\n",
              "    </tr>\n",
              "    <tr>\n",
              "      <th>165</th>\n",
              "      <td>Activa 3g</td>\n",
              "      <td>2016</td>\n",
              "      <td>0.45</td>\n",
              "      <td>0.54</td>\n",
              "      <td>500</td>\n",
              "      <td>Petrol</td>\n",
              "      <td>Individual</td>\n",
              "      <td>Automatic</td>\n",
              "      <td>0</td>\n",
              "    </tr>\n",
              "    <tr>\n",
              "      <th>173</th>\n",
              "      <td>Activa 4g</td>\n",
              "      <td>2017</td>\n",
              "      <td>0.40</td>\n",
              "      <td>0.51</td>\n",
              "      <td>1300</td>\n",
              "      <td>Petrol</td>\n",
              "      <td>Individual</td>\n",
              "      <td>Automatic</td>\n",
              "      <td>0</td>\n",
              "    </tr>\n",
              "    <tr>\n",
              "      <th>195</th>\n",
              "      <td>Bajaj  ct 100</td>\n",
              "      <td>2015</td>\n",
              "      <td>0.18</td>\n",
              "      <td>0.32</td>\n",
              "      <td>35000</td>\n",
              "      <td>Petrol</td>\n",
              "      <td>Individual</td>\n",
              "      <td>Manual</td>\n",
              "      <td>0</td>\n",
              "    </tr>\n",
              "    <tr>\n",
              "      <th>127</th>\n",
              "      <td>Bajaj Avenger 150</td>\n",
              "      <td>2016</td>\n",
              "      <td>0.75</td>\n",
              "      <td>0.80</td>\n",
              "      <td>7000</td>\n",
              "      <td>Petrol</td>\n",
              "      <td>Individual</td>\n",
              "      <td>Manual</td>\n",
              "      <td>0</td>\n",
              "    </tr>\n",
              "    <tr>\n",
              "      <th>...</th>\n",
              "      <td>...</td>\n",
              "      <td>...</td>\n",
              "      <td>...</td>\n",
              "      <td>...</td>\n",
              "      <td>...</td>\n",
              "      <td>...</td>\n",
              "      <td>...</td>\n",
              "      <td>...</td>\n",
              "      <td>...</td>\n",
              "    </tr>\n",
              "    <tr>\n",
              "      <th>1</th>\n",
              "      <td>sx4</td>\n",
              "      <td>2013</td>\n",
              "      <td>4.75</td>\n",
              "      <td>9.54</td>\n",
              "      <td>43000</td>\n",
              "      <td>Diesel</td>\n",
              "      <td>Dealer</td>\n",
              "      <td>Manual</td>\n",
              "      <td>0</td>\n",
              "    </tr>\n",
              "    <tr>\n",
              "      <th>215</th>\n",
              "      <td>verna</td>\n",
              "      <td>2012</td>\n",
              "      <td>4.50</td>\n",
              "      <td>9.40</td>\n",
              "      <td>36100</td>\n",
              "      <td>Petrol</td>\n",
              "      <td>Dealer</td>\n",
              "      <td>Manual</td>\n",
              "      <td>0</td>\n",
              "    </tr>\n",
              "    <tr>\n",
              "      <th>5</th>\n",
              "      <td>vitara brezza</td>\n",
              "      <td>2018</td>\n",
              "      <td>9.25</td>\n",
              "      <td>9.83</td>\n",
              "      <td>2071</td>\n",
              "      <td>Diesel</td>\n",
              "      <td>Dealer</td>\n",
              "      <td>Manual</td>\n",
              "      <td>0</td>\n",
              "    </tr>\n",
              "    <tr>\n",
              "      <th>18</th>\n",
              "      <td>wagon r</td>\n",
              "      <td>2015</td>\n",
              "      <td>3.25</td>\n",
              "      <td>5.09</td>\n",
              "      <td>35500</td>\n",
              "      <td>CNG</td>\n",
              "      <td>Dealer</td>\n",
              "      <td>Manual</td>\n",
              "      <td>0</td>\n",
              "    </tr>\n",
              "    <tr>\n",
              "      <th>206</th>\n",
              "      <td>xcent</td>\n",
              "      <td>2017</td>\n",
              "      <td>5.75</td>\n",
              "      <td>7.13</td>\n",
              "      <td>12479</td>\n",
              "      <td>Petrol</td>\n",
              "      <td>Dealer</td>\n",
              "      <td>Manual</td>\n",
              "      <td>0</td>\n",
              "    </tr>\n",
              "  </tbody>\n",
              "</table>\n",
              "<p>98 rows × 9 columns</p>\n",
              "</div>"
            ],
            "text/plain": [
              "              Car_Name  Year  Selling_Price  ...  Seller_Type  Transmission Owner\n",
              "37                 800  2003           0.35  ...   Individual        Manual     0\n",
              "165          Activa 3g  2016           0.45  ...   Individual     Automatic     0\n",
              "173          Activa 4g  2017           0.40  ...   Individual     Automatic     0\n",
              "195      Bajaj  ct 100  2015           0.18  ...   Individual        Manual     0\n",
              "127  Bajaj Avenger 150  2016           0.75  ...   Individual        Manual     0\n",
              "..                 ...   ...            ...  ...          ...           ...   ...\n",
              "1                  sx4  2013           4.75  ...       Dealer        Manual     0\n",
              "215              verna  2012           4.50  ...       Dealer        Manual     0\n",
              "5        vitara brezza  2018           9.25  ...       Dealer        Manual     0\n",
              "18             wagon r  2015           3.25  ...       Dealer        Manual     0\n",
              "206              xcent  2017           5.75  ...       Dealer        Manual     0\n",
              "\n",
              "[98 rows x 9 columns]"
            ]
          },
          "metadata": {
            "tags": []
          },
          "execution_count": 29
        }
      ]
    },
    {
      "cell_type": "code",
      "metadata": {
        "colab": {
          "base_uri": "https://localhost:8080/"
        },
        "id": "uOSP17fp-Q4Q",
        "outputId": "89e31844-ef18-4fb4-f70c-c6cf5ea3c9bc"
      },
      "source": [
        "# mostrar tipo de combustivel\r\n",
        "print(dados['Fuel_Type'].unique())"
      ],
      "execution_count": 35,
      "outputs": [
        {
          "output_type": "stream",
          "text": [
            "['Petrol' 'Diesel' 'CNG']\n"
          ],
          "name": "stdout"
        }
      ]
    },
    {
      "cell_type": "code",
      "metadata": {
        "colab": {
          "base_uri": "https://localhost:8080/"
        },
        "id": "tRt9htBB_P_h",
        "outputId": "a6f3ae68-002e-4e1a-f96d-7d5db91f1019"
      },
      "source": [
        "dados['Fuel_Type'].value_counts()"
      ],
      "execution_count": 45,
      "outputs": [
        {
          "output_type": "execute_result",
          "data": {
            "text/plain": [
              "Petrol    239\n",
              "Diesel     60\n",
              "CNG         2\n",
              "Name: Fuel_Type, dtype: int64"
            ]
          },
          "metadata": {
            "tags": []
          },
          "execution_count": 45
        }
      ]
    },
    {
      "cell_type": "code",
      "metadata": {
        "colab": {
          "base_uri": "https://localhost:8080/"
        },
        "id": "hG-7JNTJAHB2",
        "outputId": "de388de6-39ce-4643-bfe9-caa4adaba015"
      },
      "source": [
        "# Criando uma lista de todos os produtos vendidos\r\n",
        "dados.loc[:,'Car_Name'].unique()"
      ],
      "execution_count": 47,
      "outputs": [
        {
          "output_type": "execute_result",
          "data": {
            "text/plain": [
              "array(['ritz', 'sx4', 'ciaz', 'wagon r', 'swift', 'vitara brezza',\n",
              "       's cross', 'alto 800', 'ertiga', 'dzire', 'alto k10', 'ignis',\n",
              "       '800', 'baleno', 'omni', 'fortuner', 'innova', 'corolla altis',\n",
              "       'etios cross', 'etios g', 'etios liva', 'corolla', 'etios gd',\n",
              "       'camry', 'land cruiser', 'Royal Enfield Thunder 500',\n",
              "       'UM Renegade Mojave', 'KTM RC200', 'Bajaj Dominar 400',\n",
              "       'Royal Enfield Classic 350', 'KTM RC390', 'Hyosung GT250R',\n",
              "       'Royal Enfield Thunder 350', 'KTM 390 Duke ',\n",
              "       'Mahindra Mojo XT300', 'Bajaj Pulsar RS200',\n",
              "       'Royal Enfield Bullet 350', 'Royal Enfield Classic 500',\n",
              "       'Bajaj Avenger 220', 'Bajaj Avenger 150', 'Honda CB Hornet 160R',\n",
              "       'Yamaha FZ S V 2.0', 'Yamaha FZ 16', 'TVS Apache RTR 160',\n",
              "       'Bajaj Pulsar 150', 'Honda CBR 150', 'Hero Extreme',\n",
              "       'Bajaj Avenger 220 dtsi', 'Bajaj Avenger 150 street',\n",
              "       'Yamaha FZ  v 2.0', 'Bajaj Pulsar  NS 200', 'Bajaj Pulsar 220 F',\n",
              "       'TVS Apache RTR 180', 'Hero Passion X pro', 'Bajaj Pulsar NS 200',\n",
              "       'Yamaha Fazer ', 'Honda Activa 4G', 'TVS Sport ',\n",
              "       'Honda Dream Yuga ', 'Bajaj Avenger Street 220',\n",
              "       'Hero Splender iSmart', 'Activa 3g', 'Hero Passion Pro',\n",
              "       'Honda CB Trigger', 'Yamaha FZ S ', 'Bajaj Pulsar 135 LS',\n",
              "       'Activa 4g', 'Honda CB Unicorn', 'Hero Honda CBZ extreme',\n",
              "       'Honda Karizma', 'Honda Activa 125', 'TVS Jupyter',\n",
              "       'Hero Honda Passion Pro', 'Hero Splender Plus', 'Honda CB Shine',\n",
              "       'Bajaj Discover 100', 'Suzuki Access 125', 'TVS Wego',\n",
              "       'Honda CB twister', 'Hero Glamour', 'Hero Super Splendor',\n",
              "       'Bajaj Discover 125', 'Hero Hunk', 'Hero  Ignitor Disc',\n",
              "       'Hero  CBZ Xtreme', 'Bajaj  ct 100', 'i20', 'grand i10', 'i10',\n",
              "       'eon', 'xcent', 'elantra', 'creta', 'verna', 'city', 'brio',\n",
              "       'amaze', 'jazz'], dtype=object)"
            ]
          },
          "metadata": {
            "tags": []
          },
          "execution_count": 47
        }
      ]
    },
    {
      "cell_type": "code",
      "metadata": {
        "colab": {
          "base_uri": "https://localhost:8080/",
          "height": 421
        },
        "id": "N7oN1em8AvZY",
        "outputId": "1ac45e21-7b53-46ed-c096-34c737a1843c"
      },
      "source": [
        "# Os 10 carros mais vendidos\r\n",
        "\r\n",
        "dados['Car_Name'].value_counts(). head(10).plot(kind='bar', figsize=(14,6));"
      ],
      "execution_count": 49,
      "outputs": [
        {
          "output_type": "display_data",
          "data": {
            "image/png": "[encoded data removed]",
            "text/plain": [
              "<Figure size 1008x432 with 1 Axes>"
            ]
          },
          "metadata": {
            "tags": [],
            "needs_background": "light"
          }
        }
      ]
    },
    {
      "cell_type": "code",
      "metadata": {
        "colab": {
          "base_uri": "https://localhost:8080/"
        },
        "id": "cYADVMCEBH3Z",
        "outputId": "01509e05-4581-46d0-c7a6-5c25f4c26c56"
      },
      "source": [
        "#tipos de Cambio\r\n",
        "print(dados['Transmission'].unique())"
      ],
      "execution_count": 55,
      "outputs": [
        {
          "output_type": "stream",
          "text": [
            "['Manual' 'Automatic']\n"
          ],
          "name": "stdout"
        }
      ]
    },
    {
      "cell_type": "code",
      "metadata": {
        "colab": {
          "base_uri": "https://localhost:8080/",
          "height": 407
        },
        "id": "vOMdo4kVGrMV",
        "outputId": "712f4810-e95f-4a6b-b3c1-13e8e3e7c6d2"
      },
      "source": [
        "# relação entre preço de venda e valor presente\r\n",
        "\r\n",
        "dados.plot(kind='scatter', x='Selling_Price', y='Present_Price', figsize=(14,6))"
      ],
      "execution_count": 64,
      "outputs": [
        {
          "output_type": "execute_result",
          "data": {
            "text/plain": [
              "<matplotlib.axes._subplots.AxesSubplot at 0x7f8b4587b470>"
            ]
          },
          "metadata": {
            "tags": []
          },
          "execution_count": 64
        },
        {
          "output_type": "display_data",
          "data": {
            "image/png": "[encoded data removed]",
            "text/plain": [
              "<Figure size 1008x432 with 1 Axes>"
            ]
          },
          "metadata": {
            "tags": [],
            "needs_background": "light"
          }
        }
      ]
    },
    {
      "cell_type": "code",
      "metadata": {
        "colab": {
          "base_uri": "https://localhost:8080/",
          "height": 424
        },
        "id": "llpRCy8DXrW5",
        "outputId": "6962e85e-79a0-4ea1-dbdd-c43da6702b56"
      },
      "source": [
        "#Carros mais rodados\r\n",
        "dados.loc[dados.groupby('Car_Name')['Kms_Driven'].idxmax()]"
      ],
      "execution_count": 68,
      "outputs": [
        {
          "output_type": "execute_result",
          "data": {
            "text/html": [
              "<div>\n",
              "<style scoped>\n",
              "    .dataframe tbody tr th:only-of-type {\n",
              "        vertical-align: middle;\n",
              "    }\n",
              "\n",
              "    .dataframe tbody tr th {\n",
              "        vertical-align: top;\n",
              "    }\n",
              "\n",
              "    .dataframe thead th {\n",
              "        text-align: right;\n",
              "    }\n",
              "</style>\n",
              "<table border=\"1\" class=\"dataframe\">\n",
              "  <thead>\n",
              "    <tr style=\"text-align: right;\">\n",
              "      <th></th>\n",
              "      <th>Car_Name</th>\n",
              "      <th>Year</th>\n",
              "      <th>Selling_Price</th>\n",
              "      <th>Present_Price</th>\n",
              "      <th>Kms_Driven</th>\n",
              "      <th>Fuel_Type</th>\n",
              "      <th>Seller_Type</th>\n",
              "      <th>Transmission</th>\n",
              "      <th>Owner</th>\n",
              "    </tr>\n",
              "  </thead>\n",
              "  <tbody>\n",
              "    <tr>\n",
              "      <th>37</th>\n",
              "      <td>800</td>\n",
              "      <td>2003</td>\n",
              "      <td>0.35</td>\n",
              "      <td>2.28</td>\n",
              "      <td>127000</td>\n",
              "      <td>Petrol</td>\n",
              "      <td>Individual</td>\n",
              "      <td>Manual</td>\n",
              "      <td>0</td>\n",
              "    </tr>\n",
              "    <tr>\n",
              "      <th>196</th>\n",
              "      <td>Activa 3g</td>\n",
              "      <td>2008</td>\n",
              "      <td>0.17</td>\n",
              "      <td>0.52</td>\n",
              "      <td>500000</td>\n",
              "      <td>Petrol</td>\n",
              "      <td>Individual</td>\n",
              "      <td>Automatic</td>\n",
              "      <td>0</td>\n",
              "    </tr>\n",
              "    <tr>\n",
              "      <th>173</th>\n",
              "      <td>Activa 4g</td>\n",
              "      <td>2017</td>\n",
              "      <td>0.40</td>\n",
              "      <td>0.51</td>\n",
              "      <td>1300</td>\n",
              "      <td>Petrol</td>\n",
              "      <td>Individual</td>\n",
              "      <td>Automatic</td>\n",
              "      <td>0</td>\n",
              "    </tr>\n",
              "    <tr>\n",
              "      <th>195</th>\n",
              "      <td>Bajaj  ct 100</td>\n",
              "      <td>2015</td>\n",
              "      <td>0.18</td>\n",
              "      <td>0.32</td>\n",
              "      <td>35000</td>\n",
              "      <td>Petrol</td>\n",
              "      <td>Individual</td>\n",
              "      <td>Manual</td>\n",
              "      <td>0</td>\n",
              "    </tr>\n",
              "    <tr>\n",
              "      <th>127</th>\n",
              "      <td>Bajaj Avenger 150</td>\n",
              "      <td>2016</td>\n",
              "      <td>0.75</td>\n",
              "      <td>0.80</td>\n",
              "      <td>7000</td>\n",
              "      <td>Petrol</td>\n",
              "      <td>Individual</td>\n",
              "      <td>Manual</td>\n",
              "      <td>0</td>\n",
              "    </tr>\n",
              "    <tr>\n",
              "      <th>...</th>\n",
              "      <td>...</td>\n",
              "      <td>...</td>\n",
              "      <td>...</td>\n",
              "      <td>...</td>\n",
              "      <td>...</td>\n",
              "      <td>...</td>\n",
              "      <td>...</td>\n",
              "      <td>...</td>\n",
              "      <td>...</td>\n",
              "    </tr>\n",
              "    <tr>\n",
              "      <th>39</th>\n",
              "      <td>sx4</td>\n",
              "      <td>2003</td>\n",
              "      <td>2.25</td>\n",
              "      <td>7.98</td>\n",
              "      <td>62000</td>\n",
              "      <td>Petrol</td>\n",
              "      <td>Dealer</td>\n",
              "      <td>Manual</td>\n",
              "      <td>0</td>\n",
              "    </tr>\n",
              "    <tr>\n",
              "      <th>245</th>\n",
              "      <td>verna</td>\n",
              "      <td>2012</td>\n",
              "      <td>5.20</td>\n",
              "      <td>9.40</td>\n",
              "      <td>71000</td>\n",
              "      <td>Diesel</td>\n",
              "      <td>Dealer</td>\n",
              "      <td>Manual</td>\n",
              "      <td>0</td>\n",
              "    </tr>\n",
              "    <tr>\n",
              "      <th>5</th>\n",
              "      <td>vitara brezza</td>\n",
              "      <td>2018</td>\n",
              "      <td>9.25</td>\n",
              "      <td>9.83</td>\n",
              "      <td>2071</td>\n",
              "      <td>Diesel</td>\n",
              "      <td>Dealer</td>\n",
              "      <td>Manual</td>\n",
              "      <td>0</td>\n",
              "    </tr>\n",
              "    <tr>\n",
              "      <th>47</th>\n",
              "      <td>wagon r</td>\n",
              "      <td>2006</td>\n",
              "      <td>1.05</td>\n",
              "      <td>4.15</td>\n",
              "      <td>65000</td>\n",
              "      <td>Petrol</td>\n",
              "      <td>Dealer</td>\n",
              "      <td>Manual</td>\n",
              "      <td>0</td>\n",
              "    </tr>\n",
              "    <tr>\n",
              "      <th>241</th>\n",
              "      <td>xcent</td>\n",
              "      <td>2015</td>\n",
              "      <td>4.75</td>\n",
              "      <td>7.13</td>\n",
              "      <td>35866</td>\n",
              "      <td>Petrol</td>\n",
              "      <td>Dealer</td>\n",
              "      <td>Manual</td>\n",
              "      <td>1</td>\n",
              "    </tr>\n",
              "  </tbody>\n",
              "</table>\n",
              "<p>98 rows × 9 columns</p>\n",
              "</div>"
            ],
            "text/plain": [
              "              Car_Name  Year  Selling_Price  ...  Seller_Type  Transmission Owner\n",
              "37                 800  2003           0.35  ...   Individual        Manual     0\n",
              "196          Activa 3g  2008           0.17  ...   Individual     Automatic     0\n",
              "173          Activa 4g  2017           0.40  ...   Individual     Automatic     0\n",
              "195      Bajaj  ct 100  2015           0.18  ...   Individual        Manual     0\n",
              "127  Bajaj Avenger 150  2016           0.75  ...   Individual        Manual     0\n",
              "..                 ...   ...            ...  ...          ...           ...   ...\n",
              "39                 sx4  2003           2.25  ...       Dealer        Manual     0\n",
              "245              verna  2012           5.20  ...       Dealer        Manual     0\n",
              "5        vitara brezza  2018           9.25  ...       Dealer        Manual     0\n",
              "47             wagon r  2006           1.05  ...       Dealer        Manual     0\n",
              "241              xcent  2015           4.75  ...       Dealer        Manual     1\n",
              "\n",
              "[98 rows x 9 columns]"
            ]
          },
          "metadata": {
            "tags": []
          },
          "execution_count": 68
        }
      ]
    },
    {
      "cell_type": "code",
      "metadata": {
        "id": "nzeZjQY9a16Y"
      },
      "source": [
        ""
      ],
      "execution_count": 75,
      "outputs": []
    }
  ]
}