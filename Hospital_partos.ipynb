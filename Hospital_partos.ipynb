{
  "nbformat": 4,
  "nbformat_minor": 0,
  "metadata": {
    "colab": {
      "name": "Untitled25.ipynb",
      "provenance": [],
      "authorship_tag": "ABX9TyNJc5s8pr39jcXUs3KvHglp",
      "include_colab_link": true
    },
    "kernelspec": {
      "name": "python3",
      "display_name": "Python 3"
    }
  },
  "cells": [
    {
      "cell_type": "markdown",
      "metadata": {
        "id": "view-in-github",
        "colab_type": "text"
      },
      "source": [
        "<a href=\"https://colab.research.google.com/github/marcos-code/Analises/blob/main/Hospital_partos.ipynb\" target=\"_parent\"><img src=\"https://colab.research.google.com/assets/colab-badge.svg\" alt=\"Open In Colab\"/></a>"
      ]
    },
    {
      "cell_type": "code",
      "metadata": {
        "id": "2RaFGa2yV4xK"
      },
      "source": [
        "#IMPORTANDO AS BIBLIOTECAS\n",
        "#informar ao matpltolib sobre graficos inline\n",
        "import pandas as pd\n",
        "%matplotlib inline\n"
      ],
      "execution_count": 1,
      "outputs": []
    },
    {
      "cell_type": "code",
      "metadata": {
        "id": "rnAkMnaHW-nJ",
        "outputId": "e073329f-3ea0-45f4-c62e-1f59e83d98e2",
        "colab": {
          "base_uri": "https://localhost:8080/",
          "height": 265
        }
      },
      "source": [
        "# Vamos importar apenas algimas colunas do arquivo\n",
        "# importar a coluna 3 - hospital, 6 - Municipio, 7 - Complexidade, 8 - Carater de atendimento,\n",
        "#12 - Sub grupo de procedimento, 14 - Procedimeto\n",
        "\n",
        "# Carregar arquivo CSV\n",
        "df = pd.read_csv('https://raw.githubusercontent.com/rodolfoghi/curso-labhacker-analise-dados-com-python/master/sih-janeiro-2017-cirurgias-eletiva-e-emergencia.csv',\n",
        "                 sep=';', encoding='cp1252', usecols = [3, 6, 7, 8, 12, 14 ])\n",
        "\n",
        "# Exibir as primeiras linhas do dataframe\n",
        "df.head(3)"
      ],
      "execution_count": 6,
      "outputs": [
        {
          "output_type": "execute_result",
          "data": {
            "text/html": [
              "<div>\n",
              "<style scoped>\n",
              "    .dataframe tbody tr th:only-of-type {\n",
              "        vertical-align: middle;\n",
              "    }\n",
              "\n",
              "    .dataframe tbody tr th {\n",
              "        vertical-align: top;\n",
              "    }\n",
              "\n",
              "    .dataframe thead th {\n",
              "        text-align: right;\n",
              "    }\n",
              "</style>\n",
              "<table border=\"1\" class=\"dataframe\">\n",
              "  <thead>\n",
              "    <tr style=\"text-align: right;\">\n",
              "      <th></th>\n",
              "      <th>Estabelecimento cnes</th>\n",
              "      <th>Municipio do estabelecimento</th>\n",
              "      <th>Complexidade do Procedimento</th>\n",
              "      <th>Carater da internaca/ATENDIMENTO</th>\n",
              "      <th>Sub grupo procedimento realizado</th>\n",
              "      <th>Procedimento realizado</th>\n",
              "    </tr>\n",
              "  </thead>\n",
              "  <tbody>\n",
              "    <tr>\n",
              "      <th>0</th>\n",
              "      <td>6876617 HOSPITAL DA CRIANCA DE BRASILIA JOSE A...</td>\n",
              "      <td>BRASILIA, DF, BR</td>\n",
              "      <td>Média complexidade</td>\n",
              "      <td>Eletivo</td>\n",
              "      <td>Sub Grupo: 15 - Outras cirurgias</td>\n",
              "      <td>TRATAMENTO C/ CIRURGIAS MULTIPLAS</td>\n",
              "    </tr>\n",
              "    <tr>\n",
              "      <th>1</th>\n",
              "      <td>0010456 HBDF HOSPITAL DE BASE DO DISTRITO FEDERAL</td>\n",
              "      <td>BRASILIA, DF, BR</td>\n",
              "      <td>Média complexidade</td>\n",
              "      <td>Urgência</td>\n",
              "      <td>Sub Grupo: 03 - Cirurgia do sistema nervoso ce...</td>\n",
              "      <td>DERIVACAO VENTRICULAR EXTERNAR-SUBGALEAL EXTERNA</td>\n",
              "    </tr>\n",
              "    <tr>\n",
              "      <th>2</th>\n",
              "      <td>0010456 HBDF HOSPITAL DE BASE DO DISTRITO FEDERAL</td>\n",
              "      <td>BRASILIA, DF, BR</td>\n",
              "      <td>Média complexidade</td>\n",
              "      <td>Urgência</td>\n",
              "      <td>Sub Grupo: 15 - Outras cirurgias</td>\n",
              "      <td>TRATAMENTO C/ CIRURGIAS MULTIPLAS</td>\n",
              "    </tr>\n",
              "  </tbody>\n",
              "</table>\n",
              "</div>"
            ],
            "text/plain": [
              "                                Estabelecimento cnes  ...                            Procedimento realizado\n",
              "0  6876617 HOSPITAL DA CRIANCA DE BRASILIA JOSE A...  ...                 TRATAMENTO C/ CIRURGIAS MULTIPLAS\n",
              "1  0010456 HBDF HOSPITAL DE BASE DO DISTRITO FEDERAL  ...  DERIVACAO VENTRICULAR EXTERNAR-SUBGALEAL EXTERNA\n",
              "2  0010456 HBDF HOSPITAL DE BASE DO DISTRITO FEDERAL  ...                 TRATAMENTO C/ CIRURGIAS MULTIPLAS\n",
              "\n",
              "[3 rows x 6 columns]"
            ]
          },
          "metadata": {
            "tags": []
          },
          "execution_count": 6
        }
      ]
    },
    {
      "cell_type": "code",
      "metadata": {
        "id": "Dhjn6yfsdkvt",
        "outputId": "d4a3a759-8b58-464f-e560-09491406007b",
        "colab": {
          "base_uri": "https://localhost:8080/",
          "height": 213
        }
      },
      "source": [
        "# Trocar os nomes das colunas\n",
        "df.columns = ['Hospital', 'Municipio', 'Complexidade', 'Carater Atendimento', 'Sub Grupo Procedimento', 'Procedimento']\n",
        "df.head(3)"
      ],
      "execution_count": 7,
      "outputs": [
        {
          "output_type": "execute_result",
          "data": {
            "text/html": [
              "<div>\n",
              "<style scoped>\n",
              "    .dataframe tbody tr th:only-of-type {\n",
              "        vertical-align: middle;\n",
              "    }\n",
              "\n",
              "    .dataframe tbody tr th {\n",
              "        vertical-align: top;\n",
              "    }\n",
              "\n",
              "    .dataframe thead th {\n",
              "        text-align: right;\n",
              "    }\n",
              "</style>\n",
              "<table border=\"1\" class=\"dataframe\">\n",
              "  <thead>\n",
              "    <tr style=\"text-align: right;\">\n",
              "      <th></th>\n",
              "      <th>Hospital</th>\n",
              "      <th>Municipio</th>\n",
              "      <th>Complexidade</th>\n",
              "      <th>Carater Atendimento</th>\n",
              "      <th>Sub Grupo Procedimento</th>\n",
              "      <th>Procedimento</th>\n",
              "    </tr>\n",
              "  </thead>\n",
              "  <tbody>\n",
              "    <tr>\n",
              "      <th>0</th>\n",
              "      <td>6876617 HOSPITAL DA CRIANCA DE BRASILIA JOSE A...</td>\n",
              "      <td>BRASILIA, DF, BR</td>\n",
              "      <td>Média complexidade</td>\n",
              "      <td>Eletivo</td>\n",
              "      <td>Sub Grupo: 15 - Outras cirurgias</td>\n",
              "      <td>TRATAMENTO C/ CIRURGIAS MULTIPLAS</td>\n",
              "    </tr>\n",
              "    <tr>\n",
              "      <th>1</th>\n",
              "      <td>0010456 HBDF HOSPITAL DE BASE DO DISTRITO FEDERAL</td>\n",
              "      <td>BRASILIA, DF, BR</td>\n",
              "      <td>Média complexidade</td>\n",
              "      <td>Urgência</td>\n",
              "      <td>Sub Grupo: 03 - Cirurgia do sistema nervoso ce...</td>\n",
              "      <td>DERIVACAO VENTRICULAR EXTERNAR-SUBGALEAL EXTERNA</td>\n",
              "    </tr>\n",
              "    <tr>\n",
              "      <th>2</th>\n",
              "      <td>0010456 HBDF HOSPITAL DE BASE DO DISTRITO FEDERAL</td>\n",
              "      <td>BRASILIA, DF, BR</td>\n",
              "      <td>Média complexidade</td>\n",
              "      <td>Urgência</td>\n",
              "      <td>Sub Grupo: 15 - Outras cirurgias</td>\n",
              "      <td>TRATAMENTO C/ CIRURGIAS MULTIPLAS</td>\n",
              "    </tr>\n",
              "  </tbody>\n",
              "</table>\n",
              "</div>"
            ],
            "text/plain": [
              "                                            Hospital  ...                                      Procedimento\n",
              "0  6876617 HOSPITAL DA CRIANCA DE BRASILIA JOSE A...  ...                 TRATAMENTO C/ CIRURGIAS MULTIPLAS\n",
              "1  0010456 HBDF HOSPITAL DE BASE DO DISTRITO FEDERAL  ...  DERIVACAO VENTRICULAR EXTERNAR-SUBGALEAL EXTERNA\n",
              "2  0010456 HBDF HOSPITAL DE BASE DO DISTRITO FEDERAL  ...                 TRATAMENTO C/ CIRURGIAS MULTIPLAS\n",
              "\n",
              "[3 rows x 6 columns]"
            ]
          },
          "metadata": {
            "tags": []
          },
          "execution_count": 7
        }
      ]
    },
    {
      "cell_type": "code",
      "metadata": {
        "id": "f3r9j5L4iiYd",
        "outputId": "e2dd7e15-341f-4074-a3cc-ca570715d292",
        "colab": {
          "base_uri": "https://localhost:8080/",
          "height": 210
        }
      },
      "source": [
        "# Descrever as colunas numericas\n",
        "df.describe()"
      ],
      "execution_count": 8,
      "outputs": [
        {
          "output_type": "execute_result",
          "data": {
            "text/html": [
              "<div>\n",
              "<style scoped>\n",
              "    .dataframe tbody tr th:only-of-type {\n",
              "        vertical-align: middle;\n",
              "    }\n",
              "\n",
              "    .dataframe tbody tr th {\n",
              "        vertical-align: top;\n",
              "    }\n",
              "\n",
              "    .dataframe thead th {\n",
              "        text-align: right;\n",
              "    }\n",
              "</style>\n",
              "<table border=\"1\" class=\"dataframe\">\n",
              "  <thead>\n",
              "    <tr style=\"text-align: right;\">\n",
              "      <th></th>\n",
              "      <th>Hospital</th>\n",
              "      <th>Municipio</th>\n",
              "      <th>Complexidade</th>\n",
              "      <th>Carater Atendimento</th>\n",
              "      <th>Sub Grupo Procedimento</th>\n",
              "      <th>Procedimento</th>\n",
              "    </tr>\n",
              "  </thead>\n",
              "  <tbody>\n",
              "    <tr>\n",
              "      <th>count</th>\n",
              "      <td>4862</td>\n",
              "      <td>4862</td>\n",
              "      <td>4862</td>\n",
              "      <td>4862</td>\n",
              "      <td>4862</td>\n",
              "      <td>4862</td>\n",
              "    </tr>\n",
              "    <tr>\n",
              "      <th>unique</th>\n",
              "      <td>16</td>\n",
              "      <td>11</td>\n",
              "      <td>2</td>\n",
              "      <td>4</td>\n",
              "      <td>16</td>\n",
              "      <td>495</td>\n",
              "    </tr>\n",
              "    <tr>\n",
              "      <th>top</th>\n",
              "      <td>0010456 HBDF HOSPITAL DE BASE DO DISTRITO FEDERAL</td>\n",
              "      <td>BRASILIA, DF, BR</td>\n",
              "      <td>Média complexidade</td>\n",
              "      <td>Urgência</td>\n",
              "      <td>Sub Grupo: 11 - Cirurgia obstétrica</td>\n",
              "      <td>PARTO CESARIANO</td>\n",
              "    </tr>\n",
              "    <tr>\n",
              "      <th>freq</th>\n",
              "      <td>735</td>\n",
              "      <td>1923</td>\n",
              "      <td>4353</td>\n",
              "      <td>3794</td>\n",
              "      <td>1539</td>\n",
              "      <td>1060</td>\n",
              "    </tr>\n",
              "  </tbody>\n",
              "</table>\n",
              "</div>"
            ],
            "text/plain": [
              "                                                 Hospital  ...     Procedimento\n",
              "count                                                4862  ...             4862\n",
              "unique                                                 16  ...              495\n",
              "top     0010456 HBDF HOSPITAL DE BASE DO DISTRITO FEDERAL  ...  PARTO CESARIANO\n",
              "freq                                                  735  ...             1060\n",
              "\n",
              "[4 rows x 6 columns]"
            ]
          },
          "metadata": {
            "tags": []
          },
          "execution_count": 8
        }
      ]
    },
    {
      "cell_type": "code",
      "metadata": {
        "id": "9yNvXqqCjTY0",
        "outputId": "d1488884-4a7d-4dec-b0f0-80e05a449813",
        "colab": {
          "base_uri": "https://localhost:8080/",
          "height": 219
        }
      },
      "source": [
        "# Listar as hospitais presentes nos dados (valores unicos)\n",
        "df['Hospital'].unique()"
      ],
      "execution_count": 11,
      "outputs": [
        {
          "output_type": "execute_result",
          "data": {
            "text/plain": [
              "array(['6876617 HOSPITAL DA CRIANCA DE BRASILIA JOSE ALENCAR HCB',\n",
              "       '0010456 HBDF HOSPITAL DE BASE DO DISTRITO FEDERAL',\n",
              "       '0010499 HRT HOSPITAL REGIONAL DE TAGUATINGA', '0010545 HRBZ',\n",
              "       '0010480 HOSPITAL REGIONAL DE CEILANDIA',\n",
              "       '3276678 INSTITUTO DE CARDIOLOGIA DO DISTRITO FEDERAL',\n",
              "       '0010472 HRG', '0010510 HOSPITAL UNIVERSITARIO DE BRASILIA',\n",
              "       '0010529 HRPL',\n",
              "       '0010537 HOSPITAL MATERNO INFANTIL DE BRASILIA HMIB',\n",
              "       '3055450 CBV CENTRO BRASILEIRO DA VISAO',\n",
              "       '2672197 HRSAM HOSPITAL REGIONAL DE SAMAMBAIA', '0010502 HRS',\n",
              "       '5717515 HRSM', '2645157 HRPA', '0010464 HRAN'], dtype=object)"
            ]
          },
          "metadata": {
            "tags": []
          },
          "execution_count": 11
        }
      ]
    },
    {
      "cell_type": "code",
      "metadata": {
        "id": "b1-MvELTjut9",
        "outputId": "2c3ed004-0e1b-42fc-a5f6-b3a8fa386855",
        "colab": {
          "base_uri": "https://localhost:8080/",
          "height": 329
        }
      },
      "source": [
        "# Quantas cirurgias foram realizadas em cada hospital\n",
        "df['Hospital'].value_counts()"
      ],
      "execution_count": 12,
      "outputs": [
        {
          "output_type": "execute_result",
          "data": {
            "text/plain": [
              "0010456 HBDF HOSPITAL DE BASE DO DISTRITO FEDERAL           735\n",
              "0010472 HRG                                                 555\n",
              "0010480 HOSPITAL REGIONAL DE CEILANDIA                      461\n",
              "0010464 HRAN                                                432\n",
              "0010499 HRT HOSPITAL REGIONAL DE TAGUATINGA                 373\n",
              "0010510 HOSPITAL UNIVERSITARIO DE BRASILIA                  350\n",
              "2645157 HRPA                                                327\n",
              "0010537 HOSPITAL MATERNO INFANTIL DE BRASILIA HMIB          298\n",
              "5717515 HRSM                                                281\n",
              "0010529 HRPL                                                256\n",
              "0010502 HRS                                                 225\n",
              "2672197 HRSAM HOSPITAL REGIONAL DE SAMAMBAIA                195\n",
              "3276678 INSTITUTO DE CARDIOLOGIA DO DISTRITO FEDERAL        191\n",
              "0010545 HRBZ                                                 75\n",
              "6876617 HOSPITAL DA CRIANCA DE BRASILIA JOSE ALENCAR HCB     74\n",
              "3055450 CBV CENTRO BRASILEIRO DA VISAO                       34\n",
              "Name: Hospital, dtype: int64"
            ]
          },
          "metadata": {
            "tags": []
          },
          "execution_count": 12
        }
      ]
    },
    {
      "cell_type": "code",
      "metadata": {
        "id": "5GMZblY3mkOS",
        "outputId": "e1d0e323-f0a1-4f21-c7ee-e9080638acad",
        "colab": {
          "base_uri": "https://localhost:8080/",
          "height": 329
        }
      },
      "source": [
        "# Quantas cirurgias por sub grupo\n",
        "df['Sub Grupo Procedimento'].value_counts()"
      ],
      "execution_count": 13,
      "outputs": [
        {
          "output_type": "execute_result",
          "data": {
            "text/plain": [
              "Sub Grupo: 11 - Cirurgia obstétrica                                                   1539\n",
              "Sub Grupo: 07 - Cirurgia do aparelho digestivo, orgãos anexos e parede abdominal       893\n",
              "Sub Grupo: 08 - Cirurgia do sistema osteomuscular                                      651\n",
              "Sub Grupo: 09 - Cirurgia do aparelho geniturinário                                     474\n",
              "Sub Grupo: 06 - Cirurgia do aparelho circulatório                                      299\n",
              "Sub Grupo: 15 - Outras cirurgias                                                       223\n",
              "Sub Grupo: 04 - Cirurgia das vias aéreas superiores, da cabeça e do pescoço            145\n",
              "Sub Grupo: 03 - Cirurgia do sistema nervoso central e periférico                       141\n",
              "Sub Grupo: 16 - Cirurgia em oncologia                                                  110\n",
              "Sub Grupo: 05 - Cirurgia do aparelho da visão                                           98\n",
              "Sub Grupo: 12 - Cirurgia torácica                                                       92\n",
              "Sub Grupo: 01 - Pequenas cirurgias e cirurgias de pele, tecido subcutâneo e mucosa      77\n",
              "Sub Grupo: 10 - Cirurgia de mama                                                        68\n",
              "Sub Grupo: 13 - Cirurgia reparadora                                                     40\n",
              "Sub Grupo: 14 - Cirurgia oro-facial                                                      7\n",
              "Sub Grupo: 02 - Cirurgia de glândulas endócrinas                                         5\n",
              "Name: Sub Grupo Procedimento, dtype: int64"
            ]
          },
          "metadata": {
            "tags": []
          },
          "execution_count": 13
        }
      ]
    },
    {
      "cell_type": "code",
      "metadata": {
        "id": "Q3HQysLx7dtF",
        "outputId": "0b91dfb4-846e-4032-fbd9-75c627640cb8",
        "colab": {
          "base_uri": "https://localhost:8080/",
          "height": 265
        }
      },
      "source": [
        "# Plotar grafico por Sub Grupo Procedimento\n",
        "df['Sub Grupo Procedimento'].value_counts().plot.barh();"
      ],
      "execution_count": 16,
      "outputs": [
        {
          "output_type": "display_data",
          "data": {
            "image/png": "[encoded data removed]",
            "text/plain": [
              "<Figure size 432x288 with 1 Axes>"
            ]
          },
          "metadata": {
            "tags": [],
            "needs_background": "light"
          }
        }
      ]
    },
    {
      "cell_type": "code",
      "metadata": {
        "id": "w4e9FocZ_URU",
        "outputId": "c219aa74-c736-4b67-e550-03cf75de7ee5",
        "colab": {
          "base_uri": "https://localhost:8080/",
          "height": 164
        }
      },
      "source": [
        "# Vamos criar sub conjunto dos dados originais\n",
        "df_hospbase = df[df['Hospital'] == '0010456 HBDF HOSPITAL DE BASE DO DISTRITO FEDERAL']\n",
        "\n",
        "# Ver linhas iniciais\n",
        "df_hospbase.head(2)"
      ],
      "execution_count": 19,
      "outputs": [
        {
          "output_type": "execute_result",
          "data": {
            "text/html": [
              "<div>\n",
              "<style scoped>\n",
              "    .dataframe tbody tr th:only-of-type {\n",
              "        vertical-align: middle;\n",
              "    }\n",
              "\n",
              "    .dataframe tbody tr th {\n",
              "        vertical-align: top;\n",
              "    }\n",
              "\n",
              "    .dataframe thead th {\n",
              "        text-align: right;\n",
              "    }\n",
              "</style>\n",
              "<table border=\"1\" class=\"dataframe\">\n",
              "  <thead>\n",
              "    <tr style=\"text-align: right;\">\n",
              "      <th></th>\n",
              "      <th>Hospital</th>\n",
              "      <th>Municipio</th>\n",
              "      <th>Complexidade</th>\n",
              "      <th>Carater Atendimento</th>\n",
              "      <th>Sub Grupo Procedimento</th>\n",
              "      <th>Procedimento</th>\n",
              "    </tr>\n",
              "  </thead>\n",
              "  <tbody>\n",
              "    <tr>\n",
              "      <th>1</th>\n",
              "      <td>0010456 HBDF HOSPITAL DE BASE DO DISTRITO FEDERAL</td>\n",
              "      <td>BRASILIA, DF, BR</td>\n",
              "      <td>Média complexidade</td>\n",
              "      <td>Urgência</td>\n",
              "      <td>Sub Grupo: 03 - Cirurgia do sistema nervoso ce...</td>\n",
              "      <td>DERIVACAO VENTRICULAR EXTERNAR-SUBGALEAL EXTERNA</td>\n",
              "    </tr>\n",
              "    <tr>\n",
              "      <th>2</th>\n",
              "      <td>0010456 HBDF HOSPITAL DE BASE DO DISTRITO FEDERAL</td>\n",
              "      <td>BRASILIA, DF, BR</td>\n",
              "      <td>Média complexidade</td>\n",
              "      <td>Urgência</td>\n",
              "      <td>Sub Grupo: 15 - Outras cirurgias</td>\n",
              "      <td>TRATAMENTO C/ CIRURGIAS MULTIPLAS</td>\n",
              "    </tr>\n",
              "  </tbody>\n",
              "</table>\n",
              "</div>"
            ],
            "text/plain": [
              "                                            Hospital  ...                                      Procedimento\n",
              "1  0010456 HBDF HOSPITAL DE BASE DO DISTRITO FEDERAL  ...  DERIVACAO VENTRICULAR EXTERNAR-SUBGALEAL EXTERNA\n",
              "2  0010456 HBDF HOSPITAL DE BASE DO DISTRITO FEDERAL  ...                 TRATAMENTO C/ CIRURGIAS MULTIPLAS\n",
              "\n",
              "[2 rows x 6 columns]"
            ]
          },
          "metadata": {
            "tags": []
          },
          "execution_count": 19
        }
      ]
    },
    {
      "cell_type": "code",
      "metadata": {
        "id": "sAnvmiMvHd1v",
        "outputId": "692a0743-5793-4018-d92b-b252a2602fa6",
        "colab": {
          "base_uri": "https://localhost:8080/",
          "height": 262
        }
      },
      "source": [
        "# Linhas finais do DataFrame\n",
        "df_hospbase.tail(4)"
      ],
      "execution_count": 20,
      "outputs": [
        {
          "output_type": "execute_result",
          "data": {
            "text/html": [
              "<div>\n",
              "<style scoped>\n",
              "    .dataframe tbody tr th:only-of-type {\n",
              "        vertical-align: middle;\n",
              "    }\n",
              "\n",
              "    .dataframe tbody tr th {\n",
              "        vertical-align: top;\n",
              "    }\n",
              "\n",
              "    .dataframe thead th {\n",
              "        text-align: right;\n",
              "    }\n",
              "</style>\n",
              "<table border=\"1\" class=\"dataframe\">\n",
              "  <thead>\n",
              "    <tr style=\"text-align: right;\">\n",
              "      <th></th>\n",
              "      <th>Hospital</th>\n",
              "      <th>Municipio</th>\n",
              "      <th>Complexidade</th>\n",
              "      <th>Carater Atendimento</th>\n",
              "      <th>Sub Grupo Procedimento</th>\n",
              "      <th>Procedimento</th>\n",
              "    </tr>\n",
              "  </thead>\n",
              "  <tbody>\n",
              "    <tr>\n",
              "      <th>2370</th>\n",
              "      <td>0010456 HBDF HOSPITAL DE BASE DO DISTRITO FEDERAL</td>\n",
              "      <td>BRASILIA, DF, BR</td>\n",
              "      <td>Média complexidade</td>\n",
              "      <td>Eletivo</td>\n",
              "      <td>Sub Grupo: 03 - Cirurgia do sistema nervoso ce...</td>\n",
              "      <td>DERIVACAO VENTRICULAR PARA PERITONEO / ATRIO /...</td>\n",
              "    </tr>\n",
              "    <tr>\n",
              "      <th>2371</th>\n",
              "      <td>0010456 HBDF HOSPITAL DE BASE DO DISTRITO FEDERAL</td>\n",
              "      <td>BRASILIA, DF, BR</td>\n",
              "      <td>Alta complexidade</td>\n",
              "      <td>Eletivo</td>\n",
              "      <td>Sub Grupo: 16 - Cirurgia em oncologia</td>\n",
              "      <td>MASTECTOMIA RADICAL C/ LINFADENECTOMIA AXILAR ...</td>\n",
              "    </tr>\n",
              "    <tr>\n",
              "      <th>2372</th>\n",
              "      <td>0010456 HBDF HOSPITAL DE BASE DO DISTRITO FEDERAL</td>\n",
              "      <td>BRASILIA, DF, BR</td>\n",
              "      <td>Alta complexidade</td>\n",
              "      <td>Eletivo</td>\n",
              "      <td>Sub Grupo: 16 - Cirurgia em oncologia</td>\n",
              "      <td>SEGMENTECTOMIA/QUADRANTECTOMIA/SETORECTOMIA DE...</td>\n",
              "    </tr>\n",
              "    <tr>\n",
              "      <th>2373</th>\n",
              "      <td>0010456 HBDF HOSPITAL DE BASE DO DISTRITO FEDERAL</td>\n",
              "      <td>BRASILIA, DF, BR</td>\n",
              "      <td>Alta complexidade</td>\n",
              "      <td>Eletivo</td>\n",
              "      <td>Sub Grupo: 06 - Cirurgia do aparelho circulatório</td>\n",
              "      <td>ESTUDO ELETROFISIOLOGICO TERAPEUTICO II (ABLAC...</td>\n",
              "    </tr>\n",
              "  </tbody>\n",
              "</table>\n",
              "</div>"
            ],
            "text/plain": [
              "                                               Hospital  ...                                       Procedimento\n",
              "2370  0010456 HBDF HOSPITAL DE BASE DO DISTRITO FEDERAL  ...  DERIVACAO VENTRICULAR PARA PERITONEO / ATRIO /...\n",
              "2371  0010456 HBDF HOSPITAL DE BASE DO DISTRITO FEDERAL  ...  MASTECTOMIA RADICAL C/ LINFADENECTOMIA AXILAR ...\n",
              "2372  0010456 HBDF HOSPITAL DE BASE DO DISTRITO FEDERAL  ...  SEGMENTECTOMIA/QUADRANTECTOMIA/SETORECTOMIA DE...\n",
              "2373  0010456 HBDF HOSPITAL DE BASE DO DISTRITO FEDERAL  ...  ESTUDO ELETROFISIOLOGICO TERAPEUTICO II (ABLAC...\n",
              "\n",
              "[4 rows x 6 columns]"
            ]
          },
          "metadata": {
            "tags": []
          },
          "execution_count": 20
        }
      ]
    },
    {
      "cell_type": "code",
      "metadata": {
        "id": "WijjbDdLHy0n",
        "outputId": "21bcc1d8-d7f9-45fd-df66-c36edc18bae1",
        "colab": {
          "base_uri": "https://localhost:8080/",
          "height": 310
        }
      },
      "source": [
        "# Listar linhas aleatorias do Dataframe, são amostras aleatórias\n",
        "df_hospbase.sample(5)"
      ],
      "execution_count": 22,
      "outputs": [
        {
          "output_type": "execute_result",
          "data": {
            "text/html": [
              "<div>\n",
              "<style scoped>\n",
              "    .dataframe tbody tr th:only-of-type {\n",
              "        vertical-align: middle;\n",
              "    }\n",
              "\n",
              "    .dataframe tbody tr th {\n",
              "        vertical-align: top;\n",
              "    }\n",
              "\n",
              "    .dataframe thead th {\n",
              "        text-align: right;\n",
              "    }\n",
              "</style>\n",
              "<table border=\"1\" class=\"dataframe\">\n",
              "  <thead>\n",
              "    <tr style=\"text-align: right;\">\n",
              "      <th></th>\n",
              "      <th>Hospital</th>\n",
              "      <th>Municipio</th>\n",
              "      <th>Complexidade</th>\n",
              "      <th>Carater Atendimento</th>\n",
              "      <th>Sub Grupo Procedimento</th>\n",
              "      <th>Procedimento</th>\n",
              "    </tr>\n",
              "  </thead>\n",
              "  <tbody>\n",
              "    <tr>\n",
              "      <th>1319</th>\n",
              "      <td>0010456 HBDF HOSPITAL DE BASE DO DISTRITO FEDERAL</td>\n",
              "      <td>BRASILIA, DF, BR</td>\n",
              "      <td>Média complexidade</td>\n",
              "      <td>Eletivo</td>\n",
              "      <td>Sub Grupo: 04 - Cirurgia das vias aéreas super...</td>\n",
              "      <td>SEPTOPLASTIA  PARA CORREÇÃO DE DESVIO</td>\n",
              "    </tr>\n",
              "    <tr>\n",
              "      <th>99</th>\n",
              "      <td>0010456 HBDF HOSPITAL DE BASE DO DISTRITO FEDERAL</td>\n",
              "      <td>BRASILIA, DF, BR</td>\n",
              "      <td>Média complexidade</td>\n",
              "      <td>Urgência</td>\n",
              "      <td>Sub Grupo: 08 - Cirurgia do sistema osteomuscular</td>\n",
              "      <td>RESSECÇÃO SIMPLES DE TUMOR ÓSSEO / DE PARTES M...</td>\n",
              "    </tr>\n",
              "    <tr>\n",
              "      <th>185</th>\n",
              "      <td>0010456 HBDF HOSPITAL DE BASE DO DISTRITO FEDERAL</td>\n",
              "      <td>BRASILIA, DF, BR</td>\n",
              "      <td>Média complexidade</td>\n",
              "      <td>Urgência</td>\n",
              "      <td>Sub Grupo: 08 - Cirurgia do sistema osteomuscular</td>\n",
              "      <td>AMPUTACAO / DESARTICULACAO DE MEMBROS INFERIORES</td>\n",
              "    </tr>\n",
              "    <tr>\n",
              "      <th>112</th>\n",
              "      <td>0010456 HBDF HOSPITAL DE BASE DO DISTRITO FEDERAL</td>\n",
              "      <td>BRASILIA, DF, BR</td>\n",
              "      <td>Média complexidade</td>\n",
              "      <td>Eletivo</td>\n",
              "      <td>Sub Grupo: 10 - Cirurgia de mama</td>\n",
              "      <td>SETORECTOMIA / QUADRANTECTOMIA</td>\n",
              "    </tr>\n",
              "    <tr>\n",
              "      <th>5</th>\n",
              "      <td>0010456 HBDF HOSPITAL DE BASE DO DISTRITO FEDERAL</td>\n",
              "      <td>BRASILIA, DF, BR</td>\n",
              "      <td>Alta complexidade</td>\n",
              "      <td>Eletivo</td>\n",
              "      <td>Sub Grupo: 06 - Cirurgia do aparelho circulatório</td>\n",
              "      <td>IMPLANTAÇÃO DE CATETER DE LONGA PERMANÊNCIA SE...</td>\n",
              "    </tr>\n",
              "  </tbody>\n",
              "</table>\n",
              "</div>"
            ],
            "text/plain": [
              "                                               Hospital  ...                                       Procedimento\n",
              "1319  0010456 HBDF HOSPITAL DE BASE DO DISTRITO FEDERAL  ...              SEPTOPLASTIA  PARA CORREÇÃO DE DESVIO\n",
              "99    0010456 HBDF HOSPITAL DE BASE DO DISTRITO FEDERAL  ...  RESSECÇÃO SIMPLES DE TUMOR ÓSSEO / DE PARTES M...\n",
              "185   0010456 HBDF HOSPITAL DE BASE DO DISTRITO FEDERAL  ...   AMPUTACAO / DESARTICULACAO DE MEMBROS INFERIORES\n",
              "112   0010456 HBDF HOSPITAL DE BASE DO DISTRITO FEDERAL  ...                     SETORECTOMIA / QUADRANTECTOMIA\n",
              "5     0010456 HBDF HOSPITAL DE BASE DO DISTRITO FEDERAL  ...  IMPLANTAÇÃO DE CATETER DE LONGA PERMANÊNCIA SE...\n",
              "\n",
              "[5 rows x 6 columns]"
            ]
          },
          "metadata": {
            "tags": []
          },
          "execution_count": 22
        }
      ]
    },
    {
      "cell_type": "code",
      "metadata": {
        "id": "YvxTfs5RJDDO",
        "outputId": "5518e9d6-978c-40a8-c6ab-59acf268ced1",
        "colab": {
          "base_uri": "https://localhost:8080/",
          "height": 237
        }
      },
      "source": [
        "# Quais a quantidade de procedimentos realizados no hostpital de base\n",
        "\n",
        "df_hospbase['Procedimento'].value_counts()"
      ],
      "execution_count": 23,
      "outputs": [
        {
          "output_type": "execute_result",
          "data": {
            "text/plain": [
              "TRATAMENTO C/ CIRURGIAS MULTIPLAS                                              47\n",
              "TRAQUEOSTOMIA                                                                  28\n",
              "DERIVACAO VENTRICULAR PARA PERITONEO / ATRIO / PLEURA / RAQUE                  26\n",
              "TORACOSTOMIA COM DRENAGEM PLEURAL FECHADA                                      23\n",
              "IMPLANTE DE MARCAPASSO DE CAMARA DUPLA TRANSVENOSO                             21\n",
              "                                                                               ..\n",
              "REVASCULARIZACAO POR PONTE / TROMBOENDARTERECTOMIA FEMURO-POPLITEA PROXIMAL     1\n",
              "LIBERACAO DE ADERENCIAS INTESTINAIS                                             1\n",
              "MICROCIRURGIA VASCULAR INTRACRANIANA (COM TÉCNICA COMPLEMENTAR)                 1\n",
              "TRAQUEOPLASTIA POR ACESSO TORÁCICO                                              1\n",
              "SINUSOTOMIA ESFENOIDAL                                                          1\n",
              "Name: Procedimento, Length: 242, dtype: int64"
            ]
          },
          "metadata": {
            "tags": []
          },
          "execution_count": 23
        }
      ]
    },
    {
      "cell_type": "code",
      "metadata": {
        "id": "qTPoZq8AJwvP",
        "outputId": "68938783-b29d-4f74-fff1-1541f8167858",
        "colab": {
          "base_uri": "https://localhost:8080/",
          "height": 146
        }
      },
      "source": [
        "# Podemos subdividir o Dataframe com base em pedaço de palavra \"Amputa\"\n",
        "df_hospbase[df_hospbase['Procedimento'].str.contains('AMPUTA')].count()"
      ],
      "execution_count": 25,
      "outputs": [
        {
          "output_type": "execute_result",
          "data": {
            "text/plain": [
              "Hospital                  33\n",
              "Municipio                 33\n",
              "Complexidade              33\n",
              "Carater Atendimento       33\n",
              "Sub Grupo Procedimento    33\n",
              "Procedimento              33\n",
              "dtype: int64"
            ]
          },
          "metadata": {
            "tags": []
          },
          "execution_count": 25
        }
      ]
    },
    {
      "cell_type": "code",
      "metadata": {
        "id": "TW3SvFy8LiLd",
        "outputId": "f46d7a8d-f541-45fe-c730-c7a717a93afc",
        "colab": {
          "base_uri": "https://localhost:8080/",
          "height": 206
        }
      },
      "source": [
        "# Dividir o Dataframe original apenas pelo procedimento de \n",
        "#Parto cesariano\n",
        "df_parto_cesariano = df[df['Procedimento'] == 'PARTO CESARIANO']\n",
        "\n",
        "# Mostrar as primeiras linhas\n",
        "df_parto_cesariano.head()"
      ],
      "execution_count": 27,
      "outputs": [
        {
          "output_type": "execute_result",
          "data": {
            "text/html": [
              "<div>\n",
              "<style scoped>\n",
              "    .dataframe tbody tr th:only-of-type {\n",
              "        vertical-align: middle;\n",
              "    }\n",
              "\n",
              "    .dataframe tbody tr th {\n",
              "        vertical-align: top;\n",
              "    }\n",
              "\n",
              "    .dataframe thead th {\n",
              "        text-align: right;\n",
              "    }\n",
              "</style>\n",
              "<table border=\"1\" class=\"dataframe\">\n",
              "  <thead>\n",
              "    <tr style=\"text-align: right;\">\n",
              "      <th></th>\n",
              "      <th>Hospital</th>\n",
              "      <th>Municipio</th>\n",
              "      <th>Complexidade</th>\n",
              "      <th>Carater Atendimento</th>\n",
              "      <th>Sub Grupo Procedimento</th>\n",
              "      <th>Procedimento</th>\n",
              "    </tr>\n",
              "  </thead>\n",
              "  <tbody>\n",
              "    <tr>\n",
              "      <th>130</th>\n",
              "      <td>0010545 HRBZ</td>\n",
              "      <td>BRAZLANDIA, DF, BR</td>\n",
              "      <td>Média complexidade</td>\n",
              "      <td>Urgência</td>\n",
              "      <td>Sub Grupo: 11 - Cirurgia obstétrica</td>\n",
              "      <td>PARTO CESARIANO</td>\n",
              "    </tr>\n",
              "    <tr>\n",
              "      <th>131</th>\n",
              "      <td>0010545 HRBZ</td>\n",
              "      <td>BRAZLANDIA, DF, BR</td>\n",
              "      <td>Média complexidade</td>\n",
              "      <td>Urgência</td>\n",
              "      <td>Sub Grupo: 11 - Cirurgia obstétrica</td>\n",
              "      <td>PARTO CESARIANO</td>\n",
              "    </tr>\n",
              "    <tr>\n",
              "      <th>132</th>\n",
              "      <td>0010545 HRBZ</td>\n",
              "      <td>BRAZLANDIA, DF, BR</td>\n",
              "      <td>Média complexidade</td>\n",
              "      <td>Urgência</td>\n",
              "      <td>Sub Grupo: 11 - Cirurgia obstétrica</td>\n",
              "      <td>PARTO CESARIANO</td>\n",
              "    </tr>\n",
              "    <tr>\n",
              "      <th>133</th>\n",
              "      <td>0010545 HRBZ</td>\n",
              "      <td>BRAZLANDIA, DF, BR</td>\n",
              "      <td>Média complexidade</td>\n",
              "      <td>Urgência</td>\n",
              "      <td>Sub Grupo: 11 - Cirurgia obstétrica</td>\n",
              "      <td>PARTO CESARIANO</td>\n",
              "    </tr>\n",
              "    <tr>\n",
              "      <th>141</th>\n",
              "      <td>0010545 HRBZ</td>\n",
              "      <td>BRAZLANDIA, DF, BR</td>\n",
              "      <td>Média complexidade</td>\n",
              "      <td>Urgência</td>\n",
              "      <td>Sub Grupo: 11 - Cirurgia obstétrica</td>\n",
              "      <td>PARTO CESARIANO</td>\n",
              "    </tr>\n",
              "  </tbody>\n",
              "</table>\n",
              "</div>"
            ],
            "text/plain": [
              "         Hospital  ...     Procedimento\n",
              "130  0010545 HRBZ  ...  PARTO CESARIANO\n",
              "131  0010545 HRBZ  ...  PARTO CESARIANO\n",
              "132  0010545 HRBZ  ...  PARTO CESARIANO\n",
              "133  0010545 HRBZ  ...  PARTO CESARIANO\n",
              "141  0010545 HRBZ  ...  PARTO CESARIANO\n",
              "\n",
              "[5 rows x 6 columns]"
            ]
          },
          "metadata": {
            "tags": []
          },
          "execution_count": 27
        }
      ]
    },
    {
      "cell_type": "code",
      "metadata": {
        "id": "YpvFKdASMzRF",
        "outputId": "1e75a7ca-256a-42a6-97ab-74c23fec9de2",
        "colab": {
          "base_uri": "https://localhost:8080/",
          "height": 256
        }
      },
      "source": [
        "# Verificar a quantidade de parto cesariano por hospital\n",
        "df_parto_cesariano['Hospital'].value_counts()"
      ],
      "execution_count": 28,
      "outputs": [
        {
          "output_type": "execute_result",
          "data": {
            "text/plain": [
              "0010480 HOSPITAL REGIONAL DE CEILANDIA                165\n",
              "2645157 HRPA                                          123\n",
              "5717515 HRSM                                          110\n",
              "0010537 HOSPITAL MATERNO INFANTIL DE BRASILIA HMIB     93\n",
              "2672197 HRSAM HOSPITAL REGIONAL DE SAMAMBAIA           92\n",
              "0010502 HRS                                            92\n",
              "0010464 HRAN                                           88\n",
              "0010529 HRPL                                           79\n",
              "0010499 HRT HOSPITAL REGIONAL DE TAGUATINGA            74\n",
              "0010510 HOSPITAL UNIVERSITARIO DE BRASILIA             63\n",
              "0010472 HRG                                            47\n",
              "0010545 HRBZ                                           34\n",
              "Name: Hospital, dtype: int64"
            ]
          },
          "metadata": {
            "tags": []
          },
          "execution_count": 28
        }
      ]
    },
    {
      "cell_type": "code",
      "metadata": {
        "id": "eH5D6UWUNKDH",
        "outputId": "f3c507a4-4a10-4db4-beb8-a1a653c16758",
        "colab": {
          "base_uri": "https://localhost:8080/",
          "height": 72
        }
      },
      "source": [
        "# Verificar a quantidade de partos por Carater de Atendimento\n",
        "df_parto_cesariano['Carater Atendimento'].value_counts()"
      ],
      "execution_count": 29,
      "outputs": [
        {
          "output_type": "execute_result",
          "data": {
            "text/plain": [
              "Urgência    1041\n",
              "Eletivo       19\n",
              "Name: Carater Atendimento, dtype: int64"
            ]
          },
          "metadata": {
            "tags": []
          },
          "execution_count": 29
        }
      ]
    },
    {
      "cell_type": "code",
      "metadata": {
        "id": "DZq8I7UANa5l",
        "outputId": "f631145d-af6d-4be8-c279-985359ea3379",
        "colab": {
          "base_uri": "https://localhost:8080/",
          "height": 265
        }
      },
      "source": [
        "# Plotar graficos de barras\n",
        "df_parto_cesariano['Hospital'].value_counts().plot.barh();"
      ],
      "execution_count": 32,
      "outputs": [
        {
          "output_type": "display_data",
          "data": {
            "image/png": "[encoded data removed]",
            "text/plain": [
              "<Figure size 432x288 with 1 Axes>"
            ]
          },
          "metadata": {
            "tags": [],
            "needs_background": "light"
          }
        }
      ]
    },
    {
      "cell_type": "code",
      "metadata": {
        "id": "kcwutPESOA0b",
        "outputId": "5eec277b-cb51-4663-8bcb-28316647dfa8",
        "colab": {
          "base_uri": "https://localhost:8080/",
          "height": 281
        }
      },
      "source": [
        "# Melhorando o grafico de barras \n",
        "#inverter a ordem e colocar titulo\n",
        "\n",
        "df_parto_cesariano['Hospital'].value_counts(ascending=True).plot.barh(title='Quantidade de Partos Cesarianos por Hospital');"
      ],
      "execution_count": 36,
      "outputs": [
        {
          "output_type": "display_data",
          "data": {
            "image/png": "[encoded data removed]",
            "text/plain": [
              "<Figure size 432x288 with 1 Axes>"
            ]
          },
          "metadata": {
            "tags": [],
            "needs_background": "light"
          }
        }
      ]
    }
  ]
}