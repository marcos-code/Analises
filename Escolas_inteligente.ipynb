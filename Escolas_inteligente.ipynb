{
  "nbformat": 4,
  "nbformat_minor": 0,
  "metadata": {
    "colab": {
      "name": "Untitled30.ipynb",
      "provenance": [],
      "authorship_tag": "ABX9TyNaMrKbodUVVSbAO9dZ1gQ5",
      "include_colab_link": true
    },
    "kernelspec": {
      "name": "python3",
      "display_name": "Python 3"
    }
  },
  "cells": [
    {
      "cell_type": "markdown",
      "metadata": {
        "id": "view-in-github",
        "colab_type": "text"
      },
      "source": [
        "<a href=\"https://colab.research.google.com/github/marcos-code/Analises/blob/main/Escolas_inteligente.ipynb\" target=\"_parent\"><img src=\"https://colab.research.google.com/assets/colab-badge.svg\" alt=\"Open In Colab\"/></a>"
      ]
    },
    {
      "cell_type": "markdown",
      "metadata": {
        "id": "i7EKstR_olYv"
      },
      "source": [
        "\n",
        "# **Anáilse dos dados do site escola inteligente**\n",
        "\n",
        "São dados do INEP disponibilizados por meio de API\n",
        "\n",
        "Link -> http://educacao.dadosabertosbr.com/api/escolas/buscaavancada?situacaoFuncionamento=1&energiaInexistente=on&aguaInexistente=on&esgotoInexistente=on&cozinha=on\n",
        "\n"
      ]
    },
    {
      "cell_type": "code",
      "metadata": {
        "id": "nyJrBqDgoygX"
      },
      "source": [
        "# Importando as Bibliotecas\n",
        "import pandas as pd\n",
        "import requests "
      ],
      "execution_count": 1,
      "outputs": []
    },
    {
      "cell_type": "code",
      "metadata": {
        "id": "RR1pI5RypMqe",
        "outputId": "3815ea1c-e3a3-4b98-96c6-8cbe0d3b0f32",
        "colab": {
          "base_uri": "https://localhost:8080/",
          "height": 400
        }
      },
      "source": [
        "# URL de acesso da API\n",
        "\n",
        "url = 'http://educacao.dadosabertosbr.com/api/escolas/buscaavancada?situacaoFuncionamento=1&energiaInexistente=on&aguaInexistente=on&esgotoInexistente=on&cozinha=on'\n",
        "\n",
        "# Requisitando os dados da API\n",
        "\n",
        "resposta = requests.get(url)\n",
        "\n",
        "# Criando DataFrame , retornando na posição 1\n",
        "df = pd.DataFrame(resposta.json()[1])\n",
        "\n",
        "# Primeiras linhas\n",
        "df.head()"
      ],
      "execution_count": 3,
      "outputs": [
        {
          "output_type": "execute_result",
          "data": {
            "text/html": [
              "<div>\n",
              "<style scoped>\n",
              "    .dataframe tbody tr th:only-of-type {\n",
              "        vertical-align: middle;\n",
              "    }\n",
              "\n",
              "    .dataframe tbody tr th {\n",
              "        vertical-align: top;\n",
              "    }\n",
              "\n",
              "    .dataframe thead th {\n",
              "        text-align: right;\n",
              "    }\n",
              "</style>\n",
              "<table border=\"1\" class=\"dataframe\">\n",
              "  <thead>\n",
              "    <tr style=\"text-align: right;\">\n",
              "      <th></th>\n",
              "      <th>anoCenso</th>\n",
              "      <th>cod</th>\n",
              "      <th>nome</th>\n",
              "      <th>codCidade</th>\n",
              "      <th>cidade</th>\n",
              "      <th>estado</th>\n",
              "      <th>regiao</th>\n",
              "      <th>situacaoFuncionamento</th>\n",
              "      <th>dependenciaAdministrativa</th>\n",
              "      <th>idebAI</th>\n",
              "      <th>idebAF</th>\n",
              "      <th>enemMediaGeral</th>\n",
              "      <th>situacaoFuncionamentoTxt</th>\n",
              "      <th>dependenciaAdministrativaTxt</th>\n",
              "    </tr>\n",
              "  </thead>\n",
              "  <tbody>\n",
              "    <tr>\n",
              "      <th>0</th>\n",
              "      <td>2013</td>\n",
              "      <td>41036026</td>\n",
              "      <td>BAIRRO DOS MENDES E R M EF</td>\n",
              "      <td>4104402</td>\n",
              "      <td>CANDIDO DE ABREU</td>\n",
              "      <td>PR</td>\n",
              "      <td>Sul</td>\n",
              "      <td>1</td>\n",
              "      <td>3</td>\n",
              "      <td>0.0</td>\n",
              "      <td>0.0</td>\n",
              "      <td>0.0</td>\n",
              "      <td>Em atividade</td>\n",
              "      <td>Municipal</td>\n",
              "    </tr>\n",
              "    <tr>\n",
              "      <th>1</th>\n",
              "      <td>2013</td>\n",
              "      <td>15008258</td>\n",
              "      <td>E M E F AGUA AZUL</td>\n",
              "      <td>1504802</td>\n",
              "      <td>MONTE ALEGRE</td>\n",
              "      <td>PA</td>\n",
              "      <td>Norte</td>\n",
              "      <td>1</td>\n",
              "      <td>3</td>\n",
              "      <td>0.0</td>\n",
              "      <td>0.0</td>\n",
              "      <td>0.0</td>\n",
              "      <td>Em atividade</td>\n",
              "      <td>Municipal</td>\n",
              "    </tr>\n",
              "    <tr>\n",
              "      <th>2</th>\n",
              "      <td>2013</td>\n",
              "      <td>15534340</td>\n",
              "      <td>E M E F AGUA BOA</td>\n",
              "      <td>1505650</td>\n",
              "      <td>PLACAS</td>\n",
              "      <td>PA</td>\n",
              "      <td>Norte</td>\n",
              "      <td>1</td>\n",
              "      <td>3</td>\n",
              "      <td>0.0</td>\n",
              "      <td>0.0</td>\n",
              "      <td>0.0</td>\n",
              "      <td>Em atividade</td>\n",
              "      <td>Municipal</td>\n",
              "    </tr>\n",
              "    <tr>\n",
              "      <th>3</th>\n",
              "      <td>2013</td>\n",
              "      <td>15525821</td>\n",
              "      <td>E M E F AMAZONIA</td>\n",
              "      <td>1505064</td>\n",
              "      <td>NOVO REPARTIMENTO</td>\n",
              "      <td>PA</td>\n",
              "      <td>Norte</td>\n",
              "      <td>1</td>\n",
              "      <td>3</td>\n",
              "      <td>0.0</td>\n",
              "      <td>0.0</td>\n",
              "      <td>0.0</td>\n",
              "      <td>Em atividade</td>\n",
              "      <td>Municipal</td>\n",
              "    </tr>\n",
              "    <tr>\n",
              "      <th>4</th>\n",
              "      <td>2013</td>\n",
              "      <td>15022790</td>\n",
              "      <td>E M E F AMELIA HOLANDA</td>\n",
              "      <td>1500305</td>\n",
              "      <td>AFUA</td>\n",
              "      <td>PA</td>\n",
              "      <td>Norte</td>\n",
              "      <td>1</td>\n",
              "      <td>3</td>\n",
              "      <td>0.0</td>\n",
              "      <td>0.0</td>\n",
              "      <td>0.0</td>\n",
              "      <td>Em atividade</td>\n",
              "      <td>Municipal</td>\n",
              "    </tr>\n",
              "  </tbody>\n",
              "</table>\n",
              "</div>"
            ],
            "text/plain": [
              "   anoCenso       cod  ... situacaoFuncionamentoTxt  dependenciaAdministrativaTxt\n",
              "0      2013  41036026  ...             Em atividade                     Municipal\n",
              "1      2013  15008258  ...             Em atividade                     Municipal\n",
              "2      2013  15534340  ...             Em atividade                     Municipal\n",
              "3      2013  15525821  ...             Em atividade                     Municipal\n",
              "4      2013  15022790  ...             Em atividade                     Municipal\n",
              "\n",
              "[5 rows x 14 columns]"
            ]
          },
          "metadata": {
            "tags": []
          },
          "execution_count": 3
        }
      ]
    },
    {
      "cell_type": "code",
      "metadata": {
        "id": "3d62kdBlyTrW",
        "outputId": "4b5dfe57-7732-4868-9fd7-05b74cba9514",
        "colab": {
          "base_uri": "https://localhost:8080/",
          "height": 35
        }
      },
      "source": [
        "# Qual o tamanho do DataFrame (linhas, colunas)\n",
        "\n",
        "df.shape"
      ],
      "execution_count": 5,
      "outputs": [
        {
          "output_type": "execute_result",
          "data": {
            "text/plain": [
              "(100, 14)"
            ]
          },
          "metadata": {
            "tags": []
          },
          "execution_count": 5
        }
      ]
    },
    {
      "cell_type": "code",
      "metadata": {
        "id": "mXG8jETMy6oU",
        "outputId": "ced440bb-3ba7-4428-bb16-a294a9f720dd",
        "colab": {
          "base_uri": "https://localhost:8080/",
          "height": 72
        }
      },
      "source": [
        "# Em quais estados estão essas escolas?\n",
        "df['estado'].value_counts()"
      ],
      "execution_count": 7,
      "outputs": [
        {
          "output_type": "execute_result",
          "data": {
            "text/plain": [
              "PA    99\n",
              "PR     1\n",
              "Name: estado, dtype: int64"
            ]
          },
          "metadata": {
            "tags": []
          },
          "execution_count": 7
        }
      ]
    },
    {
      "cell_type": "code",
      "metadata": {
        "id": "5niiUCgZ1_mj",
        "outputId": "faaf1e54-f8ea-4eb0-d7cc-14e36d3ce180",
        "colab": {
          "base_uri": "https://localhost:8080/",
          "height": 54
        }
      },
      "source": [
        "# São todas escolas municipais?\n",
        "\n",
        "df['dependenciaAdministrativaTxt'].value_counts()"
      ],
      "execution_count": 9,
      "outputs": [
        {
          "output_type": "execute_result",
          "data": {
            "text/plain": [
              "Municipal    100\n",
              "Name: dependenciaAdministrativaTxt, dtype: int64"
            ]
          },
          "metadata": {
            "tags": []
          },
          "execution_count": 9
        }
      ]
    },
    {
      "cell_type": "code",
      "metadata": {
        "id": "NVk0bFin2M6O"
      },
      "source": [
        ""
      ],
      "execution_count": null,
      "outputs": []
    }
  ]
}